{
 "cells": [
  {
   "cell_type": "code",
   "execution_count": 7,
   "metadata": {
    "collapsed": true
   },
   "outputs": [],
   "source": [
    "import pandas as pd\n",
    "import matplotlib.pyplot as plt\n",
    "import numpy\n",
    "import csv\n",
    "import itertools"
   ]
  },
  {
   "cell_type": "code",
   "execution_count": 8,
   "metadata": {
    "collapsed": true
   },
   "outputs": [],
   "source": [
    "%matplotlib inline"
   ]
  },
  {
   "cell_type": "code",
   "execution_count": 9,
   "metadata": {
    "collapsed": false
   },
   "outputs": [
    {
     "name": "stdout",
     "output_type": "stream",
     "text": [
      "['device_or_cookie_id', 'device_or_cookie_indicator', 'property_id', 'unique_days_seeing_property_on_device_or_cookie_id']\n",
      "['id_558314', '1', 'property_66021', '7']\n",
      "['id_558314', '1', 'property_24444', '1']\n",
      "['id_558314', '1', 'property_285395', '6']\n"
     ]
    }
   ],
   "source": [
    "with open('id_all_property 2.csv') as f:\n",
    "    reader = csv.reader(f)\n",
    "    \n",
    "    for row in itertools.islice(reader, 4):\n",
    "        print(row)"
   ]
  },
  {
   "cell_type": "code",
   "execution_count": null,
   "metadata": {
    "collapsed": false
   },
   "outputs": [],
   "source": [
    "with open('id_all_property 2.csv') as f:\n",
    "    reader = csv.reader(f)\n",
    "    csv_rows = [row for row in reader]"
   ]
  },
  {
   "cell_type": "code",
   "execution_count": 14,
   "metadata": {
    "collapsed": false
   },
   "outputs": [
    {
     "name": "stdout",
     "output_type": "stream",
     "text": [
      "['device_or_cookie_id', 'device_or_cookie_indicator', 'ip', 'ip_freq_count', 'idxip_anonymous_c1', 'idxip_anonymous_c2', 'idxip_anonymous_c3', 'idxip_anonymous_c4', 'idxip_anonymous_c5']\n",
      "['id_25644', '1', 'ip1750664', '18', '0', '1', '1', '0', '1']\n",
      "['id_25644', '1', 'ip5400336', '38', '0', '6', '1', '0', '1']\n",
      "['id_25644', '1', 'ip5572833', '8', '0', '8', '1', '0', '1']\n"
     ]
    }
   ],
   "source": [
    "with open('id_all_ip 2.csv') as f:\n",
    "    reader = csv.reader(f)\n",
    "    \n",
    "    for row in itertools.islice(reader, 4):\n",
    "        print(row)"
   ]
  },
  {
   "cell_type": "code",
   "execution_count": 15,
   "metadata": {
    "collapsed": false
   },
   "outputs": [
    {
     "name": "stdout",
     "output_type": "stream",
     "text": [
      "['property_id', 'category_id']\n",
      "['property_40678', 'category_82']\n",
      "['property_40678', 'category_210']\n",
      "['property_40678', 'category_331']\n"
     ]
    }
   ],
   "source": [
    "with open('property_category_corrected.csv') as f:\n",
    "    reader = csv.reader(f)\n",
    "    \n",
    "    for row in itertools.islice(reader, 4):\n",
    "        print(row)"
   ]
  },
  {
   "cell_type": "code",
   "execution_count": 17,
   "metadata": {
    "collapsed": false
   },
   "outputs": [],
   "source": [
    "dev_basic_train_df = pd.read_csv(\"dev_train_basic.csv\")\n",
    "dev_basic_test_df = pd.read_csv(\"dev_test_basic.csv\")\n",
    "cookie_all_basic_df = pd.read_csv(\"cookie_all_basic.csv\")\n",
    "ipagg_all_df = pd.read_csv(\"ipagg_all.csv\")\n",
    "property_category_df = pd.read_csv(\"property_category_corrected.csv\")\n",
    "id_all_ip_df = pd.read_csv(\"id_all_ip 2.csv\")\n",
    "id_all_property_df = pd.read_csv(\"id_all_property 2.csv\")"
   ]
  },
  {
   "cell_type": "markdown",
   "metadata": {},
   "source": [
    "##Pickle the DataFrames"
   ]
  },
  {
   "cell_type": "code",
   "execution_count": 157,
   "metadata": {
    "collapsed": true
   },
   "outputs": [],
   "source": [
    "dev_basic_train_df.to_pickle(\"device_training_df.pkl\")"
   ]
  },
  {
   "cell_type": "code",
   "execution_count": 158,
   "metadata": {
    "collapsed": false
   },
   "outputs": [
    {
     "ename": "OSError",
     "evalue": "[Errno 22] Invalid argument",
     "output_type": "error",
     "traceback": [
      "\u001b[0;31m---------------------------------------------------------------------------\u001b[0m",
      "\u001b[0;31mOSError\u001b[0m                                   Traceback (most recent call last)",
      "\u001b[0;32m<ipython-input-158-8a88eccd5e87>\u001b[0m in \u001b[0;36m<module>\u001b[0;34m()\u001b[0m\n\u001b[1;32m      3\u001b[0m \u001b[0mipagg_all_df\u001b[0m\u001b[0;34m.\u001b[0m\u001b[0mto_pickle\u001b[0m\u001b[0;34m(\u001b[0m\u001b[0;34m\"ipagg_df.pkl\"\u001b[0m\u001b[0;34m)\u001b[0m\u001b[0;34m\u001b[0m\u001b[0m\n\u001b[1;32m      4\u001b[0m \u001b[0mproperty_category_df\u001b[0m\u001b[0;34m.\u001b[0m\u001b[0mto_pickle\u001b[0m\u001b[0;34m(\u001b[0m\u001b[0;34m\"property_category_df.pkl\"\u001b[0m\u001b[0;34m)\u001b[0m\u001b[0;34m\u001b[0m\u001b[0m\n\u001b[0;32m----> 5\u001b[0;31m \u001b[0mid_all_ip_df\u001b[0m\u001b[0;34m.\u001b[0m\u001b[0mto_pickle\u001b[0m\u001b[0;34m(\u001b[0m\u001b[0;34m\"id_all_ip_df.pkl\"\u001b[0m\u001b[0;34m)\u001b[0m\u001b[0;34m\u001b[0m\u001b[0m\n\u001b[0m\u001b[1;32m      6\u001b[0m \u001b[0mid_all_property_df\u001b[0m\u001b[0;34m.\u001b[0m\u001b[0mto_pickle\u001b[0m\u001b[0;34m(\u001b[0m\u001b[0;34m\"id_all_property_df.pkl\"\u001b[0m\u001b[0;34m)\u001b[0m\u001b[0;34m\u001b[0m\u001b[0m\n",
      "\u001b[0;32m/Users/joshuahiggins/tiyd/device_pitch/.direnv/python-3.4.3/lib/python3.4/site-packages/pandas/core/generic.py\u001b[0m in \u001b[0;36mto_pickle\u001b[0;34m(self, path)\u001b[0m\n\u001b[1;32m    992\u001b[0m         \"\"\"\n\u001b[1;32m    993\u001b[0m         \u001b[0;32mfrom\u001b[0m \u001b[0mpandas\u001b[0m\u001b[0;34m.\u001b[0m\u001b[0mio\u001b[0m\u001b[0;34m.\u001b[0m\u001b[0mpickle\u001b[0m \u001b[0;32mimport\u001b[0m \u001b[0mto_pickle\u001b[0m\u001b[0;34m\u001b[0m\u001b[0m\n\u001b[0;32m--> 994\u001b[0;31m         \u001b[0;32mreturn\u001b[0m \u001b[0mto_pickle\u001b[0m\u001b[0;34m(\u001b[0m\u001b[0mself\u001b[0m\u001b[0;34m,\u001b[0m \u001b[0mpath\u001b[0m\u001b[0;34m)\u001b[0m\u001b[0;34m\u001b[0m\u001b[0m\n\u001b[0m\u001b[1;32m    995\u001b[0m \u001b[0;34m\u001b[0m\u001b[0m\n\u001b[1;32m    996\u001b[0m     \u001b[0;32mdef\u001b[0m \u001b[0msave\u001b[0m\u001b[0;34m(\u001b[0m\u001b[0mself\u001b[0m\u001b[0;34m,\u001b[0m \u001b[0mpath\u001b[0m\u001b[0;34m)\u001b[0m\u001b[0;34m:\u001b[0m  \u001b[0;31m# TODO remove in 0.14\u001b[0m\u001b[0;34m\u001b[0m\u001b[0m\n",
      "\u001b[0;32m/Users/joshuahiggins/tiyd/device_pitch/.direnv/python-3.4.3/lib/python3.4/site-packages/pandas/io/pickle.py\u001b[0m in \u001b[0;36mto_pickle\u001b[0;34m(obj, path)\u001b[0m\n\u001b[1;32m     12\u001b[0m     \"\"\"\n\u001b[1;32m     13\u001b[0m     \u001b[0;32mwith\u001b[0m \u001b[0mopen\u001b[0m\u001b[0;34m(\u001b[0m\u001b[0mpath\u001b[0m\u001b[0;34m,\u001b[0m \u001b[0;34m'wb'\u001b[0m\u001b[0;34m)\u001b[0m \u001b[0;32mas\u001b[0m \u001b[0mf\u001b[0m\u001b[0;34m:\u001b[0m\u001b[0;34m\u001b[0m\u001b[0m\n\u001b[0;32m---> 14\u001b[0;31m         \u001b[0mpkl\u001b[0m\u001b[0;34m.\u001b[0m\u001b[0mdump\u001b[0m\u001b[0;34m(\u001b[0m\u001b[0mobj\u001b[0m\u001b[0;34m,\u001b[0m \u001b[0mf\u001b[0m\u001b[0;34m,\u001b[0m \u001b[0mprotocol\u001b[0m\u001b[0;34m=\u001b[0m\u001b[0mpkl\u001b[0m\u001b[0;34m.\u001b[0m\u001b[0mHIGHEST_PROTOCOL\u001b[0m\u001b[0;34m)\u001b[0m\u001b[0;34m\u001b[0m\u001b[0m\n\u001b[0m\u001b[1;32m     15\u001b[0m \u001b[0;34m\u001b[0m\u001b[0m\n\u001b[1;32m     16\u001b[0m \u001b[0;34m\u001b[0m\u001b[0m\n",
      "\u001b[0;31mOSError\u001b[0m: [Errno 22] Invalid argument"
     ]
    }
   ],
   "source": [
    "dev_basic_test_df.to_pickle(\"device_test_df.pkl\")\n",
    "cookie_all_basic_df.to_pickle(\"cookie_df.pkl\")\n",
    "ipagg_all_df.to_pickle(\"ipagg_df.pkl\")\n",
    "property_category_df.to_pickle(\"property_category_df.pkl\")\n",
    "id_all_ip_df.to_pickle(\"id_all_ip_df.pkl\")\n",
    "id_all_property_df.to_pickle(\"id_all_property_df.pkl\")"
   ]
  },
  {
   "cell_type": "markdown",
   "metadata": {},
   "source": [
    "#Training Data for Devices\n",
    "The associated features are specific to devices.   \n",
    "142k rows"
   ]
  },
  {
   "cell_type": "code",
   "execution_count": 18,
   "metadata": {
    "collapsed": false
   },
   "outputs": [
    {
     "data": {
      "text/html": [
       "<div>\n",
       "<table border=\"1\" class=\"dataframe\">\n",
       "  <thead>\n",
       "    <tr style=\"text-align: right;\">\n",
       "      <th></th>\n",
       "      <th>drawbridge_handle</th>\n",
       "      <th>device_id</th>\n",
       "      <th>device_type</th>\n",
       "      <th>device_os</th>\n",
       "      <th>country</th>\n",
       "      <th>anonymous_c0</th>\n",
       "      <th>anonymous_c1</th>\n",
       "      <th>anonymous_c2</th>\n",
       "      <th>anonymous_5</th>\n",
       "      <th>anonymous_6</th>\n",
       "      <th>anonymous_7</th>\n",
       "    </tr>\n",
       "  </thead>\n",
       "  <tbody>\n",
       "    <tr>\n",
       "      <th>0</th>\n",
       "      <td>handle_292447</td>\n",
       "      <td>id_1000002</td>\n",
       "      <td>devtype_2</td>\n",
       "      <td>devos_138</td>\n",
       "      <td>country_146</td>\n",
       "      <td>1</td>\n",
       "      <td>anonymous_c1_331</td>\n",
       "      <td>anonymous_c2_23084</td>\n",
       "      <td>34</td>\n",
       "      <td>1</td>\n",
       "      <td>204</td>\n",
       "    </tr>\n",
       "    <tr>\n",
       "      <th>1</th>\n",
       "      <td>handle_1272807</td>\n",
       "      <td>id_1000061</td>\n",
       "      <td>devtype_2</td>\n",
       "      <td>devos_157</td>\n",
       "      <td>country_146</td>\n",
       "      <td>0</td>\n",
       "      <td>anonymous_c1_1350</td>\n",
       "      <td>anonymous_c2_3147</td>\n",
       "      <td>51</td>\n",
       "      <td>1</td>\n",
       "      <td>203</td>\n",
       "    </tr>\n",
       "    <tr>\n",
       "      <th>2</th>\n",
       "      <td>handle_1644226</td>\n",
       "      <td>id_1000068</td>\n",
       "      <td>devtype_2</td>\n",
       "      <td>devos_157</td>\n",
       "      <td>country_146</td>\n",
       "      <td>0</td>\n",
       "      <td>anonymous_c1_1166</td>\n",
       "      <td>anonymous_c2_11093</td>\n",
       "      <td>41</td>\n",
       "      <td>1</td>\n",
       "      <td>204</td>\n",
       "    </tr>\n",
       "    <tr>\n",
       "      <th>3</th>\n",
       "      <td>handle_1634852</td>\n",
       "      <td>id_1000149</td>\n",
       "      <td>devtype_4</td>\n",
       "      <td>devos_133</td>\n",
       "      <td>country_146</td>\n",
       "      <td>1</td>\n",
       "      <td>anonymous_c1_1260</td>\n",
       "      <td>anonymous_c2_2456</td>\n",
       "      <td>10</td>\n",
       "      <td>25</td>\n",
       "      <td>198</td>\n",
       "    </tr>\n",
       "    <tr>\n",
       "      <th>4</th>\n",
       "      <td>handle_1189159</td>\n",
       "      <td>id_1000202</td>\n",
       "      <td>devtype_4</td>\n",
       "      <td>devos_7</td>\n",
       "      <td>country_146</td>\n",
       "      <td>0</td>\n",
       "      <td>anonymous_c1_917</td>\n",
       "      <td>anonymous_c2_19317</td>\n",
       "      <td>5</td>\n",
       "      <td>1</td>\n",
       "      <td>204</td>\n",
       "    </tr>\n",
       "  </tbody>\n",
       "</table>\n",
       "</div>"
      ],
      "text/plain": [
       "  drawbridge_handle   device_id device_type  device_os      country  \\\n",
       "0     handle_292447  id_1000002   devtype_2  devos_138  country_146   \n",
       "1    handle_1272807  id_1000061   devtype_2  devos_157  country_146   \n",
       "2    handle_1644226  id_1000068   devtype_2  devos_157  country_146   \n",
       "3    handle_1634852  id_1000149   devtype_4  devos_133  country_146   \n",
       "4    handle_1189159  id_1000202   devtype_4    devos_7  country_146   \n",
       "\n",
       "   anonymous_c0       anonymous_c1        anonymous_c2  anonymous_5  \\\n",
       "0             1   anonymous_c1_331  anonymous_c2_23084           34   \n",
       "1             0  anonymous_c1_1350   anonymous_c2_3147           51   \n",
       "2             0  anonymous_c1_1166  anonymous_c2_11093           41   \n",
       "3             1  anonymous_c1_1260   anonymous_c2_2456           10   \n",
       "4             0   anonymous_c1_917  anonymous_c2_19317            5   \n",
       "\n",
       "   anonymous_6  anonymous_7  \n",
       "0            1          204  \n",
       "1            1          203  \n",
       "2            1          204  \n",
       "3           25          198  \n",
       "4            1          204  "
      ]
     },
     "execution_count": 18,
     "metadata": {},
     "output_type": "execute_result"
    }
   ],
   "source": [
    "dev_basic_train_df.head()"
   ]
  },
  {
   "cell_type": "code",
   "execution_count": 29,
   "metadata": {
    "collapsed": false
   },
   "outputs": [
    {
     "data": {
      "text/plain": [
       "(142770, 11)"
      ]
     },
     "execution_count": 29,
     "metadata": {},
     "output_type": "execute_result"
    }
   ],
   "source": [
    "dev_basic_train_df.shape"
   ]
  },
  {
   "cell_type": "code",
   "execution_count": 45,
   "metadata": {
    "collapsed": false
   },
   "outputs": [
    {
     "data": {
      "text/plain": [
       "devtype_4    72080\n",
       "devtype_2    62586\n",
       "devtype_5     4268\n",
       "devtype_7     2383\n",
       "devtype_6     1229\n",
       "devtype_1      162\n",
       "-1              50\n",
       "devtype_3       12\n",
       "dtype: int64"
      ]
     },
     "execution_count": 45,
     "metadata": {},
     "output_type": "execute_result"
    }
   ],
   "source": [
    "train_device_type_count = dev_basic_train_df['device_type'].value_counts()\n",
    "train_device_type_count[:10]"
   ]
  },
  {
   "cell_type": "markdown",
   "metadata": {},
   "source": [
    "##Most devices are one of two types"
   ]
  },
  {
   "cell_type": "code",
   "execution_count": 47,
   "metadata": {
    "collapsed": false
   },
   "outputs": [
    {
     "data": {
      "text/plain": [
       "devtype_4    0.504868\n",
       "devtype_2    0.438369\n",
       "devtype_5    0.029894\n",
       "devtype_7    0.016691\n",
       "devtype_6    0.008608\n",
       "devtype_1    0.001135\n",
       "-1           0.000350\n",
       "devtype_3    0.000084\n",
       "dtype: float64"
      ]
     },
     "execution_count": 47,
     "metadata": {},
     "output_type": "execute_result"
    }
   ],
   "source": [
    "train_device_proportions = train_device_type_count / 142770\n",
    "train_device_proportions"
   ]
  },
  {
   "cell_type": "code",
   "execution_count": 54,
   "metadata": {
    "collapsed": false
   },
   "outputs": [
    {
     "data": {
      "text/plain": [
       "<matplotlib.axes._subplots.AxesSubplot at 0x106e86550>"
      ]
     },
     "execution_count": 54,
     "metadata": {},
     "output_type": "execute_result"
    },
    {
     "data": {
      "image/png": "[encoded data removed]",
      "text/plain": [
       "<matplotlib.figure.Figure at 0x106e8d208>"
      ]
     },
     "metadata": {},
     "output_type": "display_data"
    }
   ],
   "source": [
    "train_device_proportions.plot(kind = \"bar\")"
   ]
  },
  {
   "cell_type": "markdown",
   "metadata": {},
   "source": [
    "##Most are from one country"
   ]
  },
  {
   "cell_type": "code",
   "execution_count": 95,
   "metadata": {
    "collapsed": false
   },
   "outputs": [
    {
     "data": {
      "text/plain": [
       "country_146    0.910548\n",
       "country_169    0.019479\n",
       "country_201    0.018884\n",
       "-1             0.018393\n",
       "country_7      0.003859\n",
       "country_197    0.002564\n",
       "country_94     0.002529\n",
       "country_24     0.002087\n",
       "country_182    0.001534\n",
       "country_4      0.001345\n",
       "dtype: float64"
      ]
     },
     "execution_count": 95,
     "metadata": {},
     "output_type": "execute_result"
    }
   ],
   "source": [
    "train_country_proportion = dev_basic_train_df['country'].value_counts()/ 142770\n",
    "train_country_proportion[:10]"
   ]
  },
  {
   "cell_type": "markdown",
   "metadata": {},
   "source": [
    "##More distribution over OS"
   ]
  },
  {
   "cell_type": "code",
   "execution_count": 96,
   "metadata": {
    "collapsed": false
   },
   "outputs": [
    {
     "data": {
      "text/plain": [
       "devos_68     0.211389\n",
       "devos_157    0.196330\n",
       "devos_119    0.091889\n",
       "devos_7      0.067689\n",
       "devos_138    0.066709\n",
       "devos_72     0.046200\n",
       "devos_36     0.044106\n",
       "devos_133    0.033768\n",
       "devos_114    0.032164\n",
       "devos_159    0.023100\n",
       "dtype: float64"
      ]
     },
     "execution_count": 96,
     "metadata": {},
     "output_type": "execute_result"
    }
   ],
   "source": [
    "dev_os_counts_train_proportion = dev_basic_train_df['device_os'].value_counts() / 142770\n",
    "dev_os_counts_train_proportion[:10]"
   ]
  },
  {
   "cell_type": "code",
   "execution_count": 97,
   "metadata": {
    "collapsed": false
   },
   "outputs": [
    {
     "data": {
      "text/plain": [
       "<matplotlib.axes._subplots.AxesSubplot at 0x136342a20>"
      ]
     },
     "execution_count": 97,
     "metadata": {},
     "output_type": "execute_result"
    },
    {
     "data": {
      "image/png": "[encoded data removed]",
      "text/plain": [
       "<matplotlib.figure.Figure at 0x13605bf60>"
      ]
     },
     "metadata": {},
     "output_type": "display_data"
    }
   ],
   "source": [
    "dev_os_counts_train_proportion.plot(kind=\"bar\")"
   ]
  },
  {
   "cell_type": "markdown",
   "metadata": {},
   "source": [
    "##Anonymous C0 is a boolean value of 0, 1 (or -1) if not known"
   ]
  },
  {
   "cell_type": "code",
   "execution_count": 99,
   "metadata": {
    "collapsed": false
   },
   "outputs": [
    {
     "data": {
      "text/plain": [
       " 0    51862\n",
       "-1    50266\n",
       " 1    40642\n",
       "dtype: int64"
      ]
     },
     "execution_count": 99,
     "metadata": {},
     "output_type": "execute_result"
    }
   ],
   "source": [
    "train_anon_C0_count = dev_basic_train_df['anonymous_c0'].value_counts()\n",
    "train_anon_C0_count[:10]"
   ]
  },
  {
   "cell_type": "code",
   "execution_count": 102,
   "metadata": {
    "collapsed": false
   },
   "outputs": [
    {
     "data": {
      "text/plain": [
       "<matplotlib.axes._subplots.AxesSubplot at 0x13962d390>"
      ]
     },
     "execution_count": 102,
     "metadata": {},
     "output_type": "execute_result"
    },
    {
     "data": {
      "image/png": "[encoded data removed]",
      "text/plain": [
       "<matplotlib.figure.Figure at 0x139637e10>"
      ]
     },
     "metadata": {},
     "output_type": "display_data"
    }
   ],
   "source": [
    "(train_anon_C0_count / 142770).plot(kind='bar')"
   ]
  },
  {
   "cell_type": "markdown",
   "metadata": {},
   "source": [
    "Not sure why the below is here, have to check."
   ]
  },
  {
   "cell_type": "markdown",
   "metadata": {},
   "source": [
    "##Anonymous C1 and C2 are categorical values"
   ]
  },
  {
   "cell_type": "code",
   "execution_count": 103,
   "metadata": {
    "collapsed": false
   },
   "outputs": [
    {
     "data": {
      "text/plain": [
       "-1                   28971\n",
       "anonymous_c1_255      6802\n",
       "anonymous_c1_1307     4705\n",
       "anonymous_c1_614      3745\n",
       "anonymous_c1_1311     3007\n",
       "anonymous_c1_331      2796\n",
       "anonymous_c1_60       2208\n",
       "anonymous_c1_1089     2130\n",
       "anonymous_c1_204      2109\n",
       "anonymous_c1_1179     1919\n",
       "dtype: int64"
      ]
     },
     "execution_count": 103,
     "metadata": {},
     "output_type": "execute_result"
    }
   ],
   "source": [
    "train_anon_C1_count = dev_basic_train_df['anonymous_c1'].value_counts()\n",
    "train_anon_C1_count[:10]"
   ]
  },
  {
   "cell_type": "code",
   "execution_count": 105,
   "metadata": {
    "collapsed": false
   },
   "outputs": [
    {
     "data": {
      "text/plain": [
       "<matplotlib.axes._subplots.AxesSubplot at 0x1397ded30>"
      ]
     },
     "execution_count": 105,
     "metadata": {},
     "output_type": "execute_result"
    },
    {
     "data": {
      "image/png": "[encoded data removed]",
      "text/plain": [
       "<matplotlib.figure.Figure at 0x1397bc3c8>"
      ]
     },
     "metadata": {},
     "output_type": "display_data"
    }
   ],
   "source": [
    "train_anon_C1_count[1:].plot(kind=\"bar\")"
   ]
  },
  {
   "cell_type": "code",
   "execution_count": 111,
   "metadata": {
    "collapsed": false
   },
   "outputs": [
    {
     "data": {
      "text/plain": [
       "count    1420.000000\n",
       "mean       80.140141\n",
       "std       306.510869\n",
       "min        21.000000\n",
       "25%        38.000000\n",
       "50%        43.000000\n",
       "75%        48.000000\n",
       "max      6802.000000\n",
       "dtype: float64"
      ]
     },
     "execution_count": 111,
     "metadata": {},
     "output_type": "execute_result"
    }
   ],
   "source": [
    "train_anon_C1_count[1:].describe()"
   ]
  },
  {
   "cell_type": "markdown",
   "metadata": {},
   "source": [
    "##Not much data for anon C2"
   ]
  },
  {
   "cell_type": "code",
   "execution_count": 112,
   "metadata": {
    "collapsed": false
   },
   "outputs": [
    {
     "data": {
      "text/plain": [
       "-1                    47881\n",
       "anonymous_c2_836         71\n",
       "anonymous_c2_23245       66\n",
       "anonymous_c2_1392        53\n",
       "anonymous_c2_5775        52\n",
       "anonymous_c2_13281       52\n",
       "anonymous_c2_21769       49\n",
       "anonymous_c2_28230       49\n",
       "anonymous_c2_21587       48\n",
       "anonymous_c2_28886       48\n",
       "dtype: int64"
      ]
     },
     "execution_count": 112,
     "metadata": {},
     "output_type": "execute_result"
    }
   ],
   "source": [
    "train_anon_C2_count = dev_basic_train_df['anonymous_c2'].value_counts()\n",
    "train_anon_C2_count[:10]"
   ]
  },
  {
   "cell_type": "markdown",
   "metadata": {},
   "source": [
    "##Anonymous 5, Anonymous 6, Anonymous 7 are integer values"
   ]
  },
  {
   "cell_type": "code",
   "execution_count": 113,
   "metadata": {
    "collapsed": false
   },
   "outputs": [
    {
     "data": {
      "text/plain": [
       "1     9461\n",
       "2     8509\n",
       "52    7386\n",
       "3     7309\n",
       "4     6459\n",
       "5     5780\n",
       "6     5192\n",
       "7     4705\n",
       "8     4335\n",
       "9     3978\n",
       "dtype: int64"
      ]
     },
     "execution_count": 113,
     "metadata": {},
     "output_type": "execute_result"
    }
   ],
   "source": [
    "train_anon_5_count = dev_basic_train_df['anonymous_5'].value_counts()\n",
    "train_anon_5_count[:10]"
   ]
  },
  {
   "cell_type": "code",
   "execution_count": 118,
   "metadata": {
    "collapsed": false
   },
   "outputs": [
    {
     "data": {
      "text/plain": [
       "<matplotlib.axes._subplots.AxesSubplot at 0x14ec6c518>"
      ]
     },
     "execution_count": 118,
     "metadata": {},
     "output_type": "execute_result"
    },
    {
     "data": {
      "image/png": "[encoded data removed]",
      "text/plain": [
       "<matplotlib.figure.Figure at 0x1501dba20>"
      ]
     },
     "metadata": {},
     "output_type": "display_data"
    }
   ],
   "source": [
    "dev_basic_train_df['anonymous_5'].hist(bins=75)"
   ]
  },
  {
   "cell_type": "code",
   "execution_count": 119,
   "metadata": {
    "collapsed": false
   },
   "outputs": [
    {
     "data": {
      "text/plain": [
       "count    142770.000000\n",
       "mean         19.795727\n",
       "std          17.578637\n",
       "min           1.000000\n",
       "25%           5.000000\n",
       "50%          14.000000\n",
       "75%          31.000000\n",
       "max         151.000000\n",
       "Name: anonymous_5, dtype: float64"
      ]
     },
     "execution_count": 119,
     "metadata": {},
     "output_type": "execute_result"
    }
   ],
   "source": [
    "dev_basic_train_df['anonymous_5'].describe()"
   ]
  },
  {
   "cell_type": "code",
   "execution_count": 123,
   "metadata": {
    "collapsed": false
   },
   "outputs": [
    {
     "data": {
      "text/plain": [
       "<matplotlib.axes._subplots.AxesSubplot at 0x139dbeb70>"
      ]
     },
     "execution_count": 123,
     "metadata": {},
     "output_type": "execute_result"
    },
    {
     "data": {
      "image/png": "[encoded data removed]",
      "text/plain": [
       "<matplotlib.figure.Figure at 0x139d084a8>"
      ]
     },
     "metadata": {},
     "output_type": "display_data"
    }
   ],
   "source": [
    "dev_basic_train_df['anonymous_6'].hist(bins=10)"
   ]
  },
  {
   "cell_type": "code",
   "execution_count": 125,
   "metadata": {
    "collapsed": false
   },
   "outputs": [
    {
     "data": {
      "text/plain": [
       "count    142770.000000\n",
       "mean         30.930497\n",
       "std          48.322029\n",
       "min           0.000000\n",
       "25%           1.000000\n",
       "50%           1.000000\n",
       "75%          53.000000\n",
       "max         200.000000\n",
       "Name: anonymous_6, dtype: float64"
      ]
     },
     "execution_count": 125,
     "metadata": {},
     "output_type": "execute_result"
    }
   ],
   "source": [
    "dev_basic_train_df['anonymous_6'].describe()"
   ]
  },
  {
   "cell_type": "code",
   "execution_count": 126,
   "metadata": {
    "collapsed": false
   },
   "outputs": [
    {
     "data": {
      "text/plain": [
       "<matplotlib.axes._subplots.AxesSubplot at 0x139df40b8>"
      ]
     },
     "execution_count": 126,
     "metadata": {},
     "output_type": "execute_result"
    },
    {
     "data": {
      "image/png": "[encoded data removed]",
      "text/plain": [
       "<matplotlib.figure.Figure at 0x139dfb8d0>"
      ]
     },
     "metadata": {},
     "output_type": "display_data"
    }
   ],
   "source": [
    "dev_basic_train_df['anonymous_7'].hist(bins=10)"
   ]
  },
  {
   "cell_type": "code",
   "execution_count": 128,
   "metadata": {
    "collapsed": false
   },
   "outputs": [
    {
     "data": {
      "text/plain": [
       "count    142770.000000\n",
       "mean        193.190537\n",
       "std          15.525353\n",
       "min         131.000000\n",
       "25%         188.000000\n",
       "50%         201.000000\n",
       "75%         204.000000\n",
       "max         204.000000\n",
       "Name: anonymous_7, dtype: float64"
      ]
     },
     "execution_count": 128,
     "metadata": {},
     "output_type": "execute_result"
    }
   ],
   "source": [
    "dev_basic_train_df['anonymous_7'].describe()"
   ]
  },
  {
   "cell_type": "code",
   "execution_count": 25,
   "metadata": {
    "collapsed": false
   },
   "outputs": [
    {
     "data": {
      "text/html": [
       "<div>\n",
       "<table border=\"1\" class=\"dataframe\">\n",
       "  <thead>\n",
       "    <tr style=\"text-align: right;\">\n",
       "      <th></th>\n",
       "      <th>device_or_cookie_id</th>\n",
       "      <th>device_or_cookie_indicator</th>\n",
       "      <th>property_id</th>\n",
       "      <th>unique_days_seeing_property_on_device_or_cookie_id</th>\n",
       "    </tr>\n",
       "  </thead>\n",
       "  <tbody>\n",
       "    <tr>\n",
       "      <th>0</th>\n",
       "      <td>id_558314</td>\n",
       "      <td>1</td>\n",
       "      <td>property_66021</td>\n",
       "      <td>7</td>\n",
       "    </tr>\n",
       "    <tr>\n",
       "      <th>1</th>\n",
       "      <td>id_558314</td>\n",
       "      <td>1</td>\n",
       "      <td>property_24444</td>\n",
       "      <td>1</td>\n",
       "    </tr>\n",
       "    <tr>\n",
       "      <th>2</th>\n",
       "      <td>id_558314</td>\n",
       "      <td>1</td>\n",
       "      <td>property_285395</td>\n",
       "      <td>6</td>\n",
       "    </tr>\n",
       "    <tr>\n",
       "      <th>3</th>\n",
       "      <td>id_558314</td>\n",
       "      <td>1</td>\n",
       "      <td>property_267459</td>\n",
       "      <td>1</td>\n",
       "    </tr>\n",
       "    <tr>\n",
       "      <th>4</th>\n",
       "      <td>id_558314</td>\n",
       "      <td>1</td>\n",
       "      <td>property_197052</td>\n",
       "      <td>14</td>\n",
       "    </tr>\n",
       "  </tbody>\n",
       "</table>\n",
       "</div>"
      ],
      "text/plain": [
       "  device_or_cookie_id  device_or_cookie_indicator      property_id  \\\n",
       "0           id_558314                           1   property_66021   \n",
       "1           id_558314                           1   property_24444   \n",
       "2           id_558314                           1  property_285395   \n",
       "3           id_558314                           1  property_267459   \n",
       "4           id_558314                           1  property_197052   \n",
       "\n",
       "   unique_days_seeing_property_on_device_or_cookie_id  \n",
       "0                                                  7   \n",
       "1                                                  1   \n",
       "2                                                  6   \n",
       "3                                                  1   \n",
       "4                                                 14   "
      ]
     },
     "execution_count": 25,
     "metadata": {},
     "output_type": "execute_result"
    }
   ],
   "source": [
    "id_all_property_df.head()"
   ]
  },
  {
   "cell_type": "code",
   "execution_count": null,
   "metadata": {
    "collapsed": true
   },
   "outputs": [],
   "source": []
  },
  {
   "cell_type": "markdown",
   "metadata": {},
   "source": [
    "#Testing Data for Devices\n",
    "61k rows"
   ]
  },
  {
   "cell_type": "code",
   "execution_count": 20,
   "metadata": {
    "collapsed": false
   },
   "outputs": [
    {
     "data": {
      "text/html": [
       "<div>\n",
       "<table border=\"1\" class=\"dataframe\">\n",
       "  <thead>\n",
       "    <tr style=\"text-align: right;\">\n",
       "      <th></th>\n",
       "      <th>drawbridge_handle</th>\n",
       "      <th>device_id</th>\n",
       "      <th>device_type</th>\n",
       "      <th>device_os</th>\n",
       "      <th>country</th>\n",
       "      <th>anonymous_c0</th>\n",
       "      <th>anonymous_c1</th>\n",
       "      <th>anonymous_c2</th>\n",
       "      <th>anonymous_5</th>\n",
       "      <th>anonymous_6</th>\n",
       "      <th>anonymous_7</th>\n",
       "    </tr>\n",
       "  </thead>\n",
       "  <tbody>\n",
       "    <tr>\n",
       "      <th>0</th>\n",
       "      <td>-1</td>\n",
       "      <td>id_1</td>\n",
       "      <td>devtype_2</td>\n",
       "      <td>devos_72</td>\n",
       "      <td>country_146</td>\n",
       "      <td>1</td>\n",
       "      <td>-1</td>\n",
       "      <td>-1</td>\n",
       "      <td>52</td>\n",
       "      <td>1</td>\n",
       "      <td>204</td>\n",
       "    </tr>\n",
       "    <tr>\n",
       "      <th>1</th>\n",
       "      <td>-1</td>\n",
       "      <td>id_100002</td>\n",
       "      <td>devtype_4</td>\n",
       "      <td>devos_7</td>\n",
       "      <td>country_146</td>\n",
       "      <td>1</td>\n",
       "      <td>anonymous_c1_322</td>\n",
       "      <td>anonymous_c2_3059</td>\n",
       "      <td>7</td>\n",
       "      <td>1</td>\n",
       "      <td>149</td>\n",
       "    </tr>\n",
       "    <tr>\n",
       "      <th>2</th>\n",
       "      <td>-1</td>\n",
       "      <td>id_1000035</td>\n",
       "      <td>devtype_4</td>\n",
       "      <td>devos_68</td>\n",
       "      <td>country_146</td>\n",
       "      <td>-1</td>\n",
       "      <td>anonymous_c1_814</td>\n",
       "      <td>anonymous_c2_1918</td>\n",
       "      <td>17</td>\n",
       "      <td>106</td>\n",
       "      <td>201</td>\n",
       "    </tr>\n",
       "    <tr>\n",
       "      <th>3</th>\n",
       "      <td>-1</td>\n",
       "      <td>id_1000099</td>\n",
       "      <td>devtype_2</td>\n",
       "      <td>devos_159</td>\n",
       "      <td>country_146</td>\n",
       "      <td>0</td>\n",
       "      <td>anonymous_c1_736</td>\n",
       "      <td>-1</td>\n",
       "      <td>19</td>\n",
       "      <td>1</td>\n",
       "      <td>203</td>\n",
       "    </tr>\n",
       "    <tr>\n",
       "      <th>4</th>\n",
       "      <td>-1</td>\n",
       "      <td>id_1000294</td>\n",
       "      <td>devtype_4</td>\n",
       "      <td>devos_119</td>\n",
       "      <td>country_146</td>\n",
       "      <td>-1</td>\n",
       "      <td>anonymous_c1_261</td>\n",
       "      <td>anonymous_c2_17508</td>\n",
       "      <td>19</td>\n",
       "      <td>147</td>\n",
       "      <td>204</td>\n",
       "    </tr>\n",
       "  </tbody>\n",
       "</table>\n",
       "</div>"
      ],
      "text/plain": [
       "   drawbridge_handle   device_id device_type  device_os      country  \\\n",
       "0                 -1        id_1   devtype_2   devos_72  country_146   \n",
       "1                 -1   id_100002   devtype_4    devos_7  country_146   \n",
       "2                 -1  id_1000035   devtype_4   devos_68  country_146   \n",
       "3                 -1  id_1000099   devtype_2  devos_159  country_146   \n",
       "4                 -1  id_1000294   devtype_4  devos_119  country_146   \n",
       "\n",
       "   anonymous_c0      anonymous_c1        anonymous_c2  anonymous_5  \\\n",
       "0             1                -1                  -1           52   \n",
       "1             1  anonymous_c1_322   anonymous_c2_3059            7   \n",
       "2            -1  anonymous_c1_814   anonymous_c2_1918           17   \n",
       "3             0  anonymous_c1_736                  -1           19   \n",
       "4            -1  anonymous_c1_261  anonymous_c2_17508           19   \n",
       "\n",
       "   anonymous_6  anonymous_7  \n",
       "0            1          204  \n",
       "1            1          149  \n",
       "2          106          201  \n",
       "3            1          203  \n",
       "4          147          204  "
      ]
     },
     "execution_count": 20,
     "metadata": {},
     "output_type": "execute_result"
    }
   ],
   "source": [
    "dev_basic_test_df.head()"
   ]
  },
  {
   "cell_type": "code",
   "execution_count": 36,
   "metadata": {
    "collapsed": false
   },
   "outputs": [
    {
     "data": {
      "text/plain": [
       "(61156, 11)"
      ]
     },
     "execution_count": 36,
     "metadata": {},
     "output_type": "execute_result"
    }
   ],
   "source": [
    "dev_basic_test_df.shape"
   ]
  },
  {
   "cell_type": "code",
   "execution_count": 39,
   "metadata": {
    "collapsed": false
   },
   "outputs": [
    {
     "data": {
      "text/plain": [
       "country_146    55621\n",
       "country_169     1183\n",
       "country_201     1148\n",
       "-1              1134\n",
       "country_7        247\n",
       "country_197      159\n",
       "country_94       151\n",
       "country_24       139\n",
       "country_38        98\n",
       "country_182       84\n",
       "dtype: int64"
      ]
     },
     "execution_count": 39,
     "metadata": {},
     "output_type": "execute_result"
    }
   ],
   "source": [
    "country_counts = dev_basic_test_df['country'].value_counts()\n",
    "country_counts[:10]"
   ]
  },
  {
   "cell_type": "code",
   "execution_count": 41,
   "metadata": {
    "collapsed": false
   },
   "outputs": [
    {
     "data": {
      "text/plain": [
       "devos_68     12915\n",
       "devos_157    12106\n",
       "devos_119     5540\n",
       "devos_7       4125\n",
       "devos_138     4111\n",
       "devos_72      2862\n",
       "devos_36      2710\n",
       "devos_133     2031\n",
       "devos_114     1936\n",
       "devos_159     1420\n",
       "dtype: int64"
      ]
     },
     "execution_count": 41,
     "metadata": {},
     "output_type": "execute_result"
    }
   ],
   "source": [
    "dev_os_counts = dev_basic_test_df['device_os'].value_counts()\n",
    "dev_os_counts[:10]"
   ]
  },
  {
   "cell_type": "code",
   "execution_count": 43,
   "metadata": {
    "collapsed": false
   },
   "outputs": [
    {
     "data": {
      "text/plain": [
       "devtype_4    30642\n",
       "devtype_2    26928\n",
       "devtype_5     1899\n",
       "devtype_7     1036\n",
       "devtype_6      575\n",
       "devtype_1       48\n",
       "-1              24\n",
       "devtype_3        4\n",
       "dtype: int64"
      ]
     },
     "execution_count": 43,
     "metadata": {},
     "output_type": "execute_result"
    }
   ],
   "source": [
    "device_type_counts = dev_basic_test_df['device_type'].value_counts()\n",
    "device_type_counts[:10]"
   ]
  },
  {
   "cell_type": "code",
   "execution_count": 51,
   "metadata": {
    "collapsed": false
   },
   "outputs": [
    {
     "data": {
      "text/plain": [
       "devtype_4    0.501047\n",
       "devtype_2    0.440317\n",
       "devtype_5    0.031052\n",
       "devtype_7    0.016940\n",
       "devtype_6    0.009402\n",
       "devtype_1    0.000785\n",
       "-1           0.000392\n",
       "devtype_3    0.000065\n",
       "dtype: float64"
      ]
     },
     "execution_count": 51,
     "metadata": {},
     "output_type": "execute_result"
    }
   ],
   "source": [
    "test_device_type_proportion = device_type_counts / 61156\n",
    "test_device_type_proportion[:10]"
   ]
  },
  {
   "cell_type": "markdown",
   "metadata": {},
   "source": [
    "#Training and Testing Set for Cookies\n",
    "Training set has drawbridge handle to link to devices.  \n",
    "The other features are specific to cookies.  \n",
    "2.2M rows"
   ]
  },
  {
   "cell_type": "code",
   "execution_count": 21,
   "metadata": {
    "collapsed": false
   },
   "outputs": [
    {
     "data": {
      "text/html": [
       "<div>\n",
       "<table border=\"1\" class=\"dataframe\">\n",
       "  <thead>\n",
       "    <tr style=\"text-align: right;\">\n",
       "      <th></th>\n",
       "      <th>drawbridge_handle</th>\n",
       "      <th>cookie_id</th>\n",
       "      <th>computer_os_type</th>\n",
       "      <th>computer_browser_version</th>\n",
       "      <th>country</th>\n",
       "      <th>anonymous_c0</th>\n",
       "      <th>anonymous_c1</th>\n",
       "      <th>anonymous_c2</th>\n",
       "      <th>anonymous_5</th>\n",
       "      <th>anonymous_6</th>\n",
       "      <th>anonymous_7</th>\n",
       "    </tr>\n",
       "  </thead>\n",
       "  <tbody>\n",
       "    <tr>\n",
       "      <th>0</th>\n",
       "      <td>-1</td>\n",
       "      <td>id_10</td>\n",
       "      <td>computer_os_type_203</td>\n",
       "      <td>computer_browser_version_1158</td>\n",
       "      <td>country_146</td>\n",
       "      <td>1</td>\n",
       "      <td>anonymous_c1_1307</td>\n",
       "      <td>anonymous_c2_18778</td>\n",
       "      <td>15</td>\n",
       "      <td>1</td>\n",
       "      <td>204</td>\n",
       "    </tr>\n",
       "    <tr>\n",
       "      <th>1</th>\n",
       "      <td>handle_609762</td>\n",
       "      <td>id_100</td>\n",
       "      <td>computer_os_type_133</td>\n",
       "      <td>computer_browser_version_875</td>\n",
       "      <td>country_146</td>\n",
       "      <td>1</td>\n",
       "      <td>anonymous_c1_753</td>\n",
       "      <td>-1</td>\n",
       "      <td>41</td>\n",
       "      <td>1</td>\n",
       "      <td>204</td>\n",
       "    </tr>\n",
       "    <tr>\n",
       "      <th>2</th>\n",
       "      <td>handle_1622320</td>\n",
       "      <td>id_1000</td>\n",
       "      <td>computer_os_type_203</td>\n",
       "      <td>computer_browser_version_36</td>\n",
       "      <td>country_146</td>\n",
       "      <td>0</td>\n",
       "      <td>anonymous_c1_906</td>\n",
       "      <td>anonymous_c2_751</td>\n",
       "      <td>40</td>\n",
       "      <td>140</td>\n",
       "      <td>204</td>\n",
       "    </tr>\n",
       "    <tr>\n",
       "      <th>3</th>\n",
       "      <td>-1</td>\n",
       "      <td>id_10000</td>\n",
       "      <td>computer_os_type_203</td>\n",
       "      <td>computer_browser_version_36</td>\n",
       "      <td>country_146</td>\n",
       "      <td>1</td>\n",
       "      <td>anonymous_c1_255</td>\n",
       "      <td>anonymous_c2_2725</td>\n",
       "      <td>34</td>\n",
       "      <td>140</td>\n",
       "      <td>204</td>\n",
       "    </tr>\n",
       "    <tr>\n",
       "      <th>4</th>\n",
       "      <td>handle_1286628</td>\n",
       "      <td>id_100000</td>\n",
       "      <td>computer_os_type_203</td>\n",
       "      <td>computer_browser_version_875</td>\n",
       "      <td>country_146</td>\n",
       "      <td>0</td>\n",
       "      <td>anonymous_c1_255</td>\n",
       "      <td>anonymous_c2_235</td>\n",
       "      <td>52</td>\n",
       "      <td>134</td>\n",
       "      <td>204</td>\n",
       "    </tr>\n",
       "  </tbody>\n",
       "</table>\n",
       "</div>"
      ],
      "text/plain": [
       "  drawbridge_handle  cookie_id      computer_os_type  \\\n",
       "0                -1      id_10  computer_os_type_203   \n",
       "1     handle_609762     id_100  computer_os_type_133   \n",
       "2    handle_1622320    id_1000  computer_os_type_203   \n",
       "3                -1   id_10000  computer_os_type_203   \n",
       "4    handle_1286628  id_100000  computer_os_type_203   \n",
       "\n",
       "        computer_browser_version      country  anonymous_c0  \\\n",
       "0  computer_browser_version_1158  country_146             1   \n",
       "1   computer_browser_version_875  country_146             1   \n",
       "2    computer_browser_version_36  country_146             0   \n",
       "3    computer_browser_version_36  country_146             1   \n",
       "4   computer_browser_version_875  country_146             0   \n",
       "\n",
       "        anonymous_c1        anonymous_c2  anonymous_5  anonymous_6  \\\n",
       "0  anonymous_c1_1307  anonymous_c2_18778           15            1   \n",
       "1   anonymous_c1_753                  -1           41            1   \n",
       "2   anonymous_c1_906    anonymous_c2_751           40          140   \n",
       "3   anonymous_c1_255   anonymous_c2_2725           34          140   \n",
       "4   anonymous_c1_255    anonymous_c2_235           52          134   \n",
       "\n",
       "   anonymous_7  \n",
       "0          204  \n",
       "1          204  \n",
       "2          204  \n",
       "3          204  \n",
       "4          204  "
      ]
     },
     "execution_count": 21,
     "metadata": {},
     "output_type": "execute_result"
    }
   ],
   "source": [
    "cookie_all_basic_df.head()"
   ]
  },
  {
   "cell_type": "code",
   "execution_count": 31,
   "metadata": {
    "collapsed": false
   },
   "outputs": [
    {
     "data": {
      "text/plain": [
       "(2175520, 11)"
      ]
     },
     "execution_count": 31,
     "metadata": {},
     "output_type": "execute_result"
    }
   ],
   "source": [
    "cookie_all_basic_df.shape"
   ]
  },
  {
   "cell_type": "markdown",
   "metadata": {},
   "source": [
    "##Split out the Training Set, where handle is not -1"
   ]
  },
  {
   "cell_type": "code",
   "execution_count": 134,
   "metadata": {
    "collapsed": true
   },
   "outputs": [],
   "source": [
    "cookie_training_set_df = cookie_all_basic_df[cookie_all_basic_df['drawbridge_handle'] != '-1']"
   ]
  },
  {
   "cell_type": "code",
   "execution_count": 135,
   "metadata": {
    "collapsed": false
   },
   "outputs": [
    {
     "data": {
      "text/plain": [
       "(1643821, 11)"
      ]
     },
     "execution_count": 135,
     "metadata": {},
     "output_type": "execute_result"
    }
   ],
   "source": [
    "cookie_training_set_df.shape"
   ]
  },
  {
   "cell_type": "code",
   "execution_count": 136,
   "metadata": {
    "collapsed": false
   },
   "outputs": [
    {
     "data": {
      "text/html": [
       "<div>\n",
       "<table border=\"1\" class=\"dataframe\">\n",
       "  <thead>\n",
       "    <tr style=\"text-align: right;\">\n",
       "      <th></th>\n",
       "      <th>drawbridge_handle</th>\n",
       "      <th>cookie_id</th>\n",
       "      <th>computer_os_type</th>\n",
       "      <th>computer_browser_version</th>\n",
       "      <th>country</th>\n",
       "      <th>anonymous_c0</th>\n",
       "      <th>anonymous_c1</th>\n",
       "      <th>anonymous_c2</th>\n",
       "      <th>anonymous_5</th>\n",
       "      <th>anonymous_6</th>\n",
       "      <th>anonymous_7</th>\n",
       "    </tr>\n",
       "  </thead>\n",
       "  <tbody>\n",
       "    <tr>\n",
       "      <th>1</th>\n",
       "      <td>handle_609762</td>\n",
       "      <td>id_100</td>\n",
       "      <td>computer_os_type_133</td>\n",
       "      <td>computer_browser_version_875</td>\n",
       "      <td>country_146</td>\n",
       "      <td>1</td>\n",
       "      <td>anonymous_c1_753</td>\n",
       "      <td>-1</td>\n",
       "      <td>41</td>\n",
       "      <td>1</td>\n",
       "      <td>204</td>\n",
       "    </tr>\n",
       "    <tr>\n",
       "      <th>2</th>\n",
       "      <td>handle_1622320</td>\n",
       "      <td>id_1000</td>\n",
       "      <td>computer_os_type_203</td>\n",
       "      <td>computer_browser_version_36</td>\n",
       "      <td>country_146</td>\n",
       "      <td>0</td>\n",
       "      <td>anonymous_c1_906</td>\n",
       "      <td>anonymous_c2_751</td>\n",
       "      <td>40</td>\n",
       "      <td>140</td>\n",
       "      <td>204</td>\n",
       "    </tr>\n",
       "    <tr>\n",
       "      <th>4</th>\n",
       "      <td>handle_1286628</td>\n",
       "      <td>id_100000</td>\n",
       "      <td>computer_os_type_203</td>\n",
       "      <td>computer_browser_version_875</td>\n",
       "      <td>country_146</td>\n",
       "      <td>0</td>\n",
       "      <td>anonymous_c1_255</td>\n",
       "      <td>anonymous_c2_235</td>\n",
       "      <td>52</td>\n",
       "      <td>134</td>\n",
       "      <td>204</td>\n",
       "    </tr>\n",
       "    <tr>\n",
       "      <th>6</th>\n",
       "      <td>handle_226230</td>\n",
       "      <td>id_1000006</td>\n",
       "      <td>computer_os_type_203</td>\n",
       "      <td>computer_browser_version_1238</td>\n",
       "      <td>-1</td>\n",
       "      <td>1</td>\n",
       "      <td>-1</td>\n",
       "      <td>-1</td>\n",
       "      <td>1</td>\n",
       "      <td>183</td>\n",
       "      <td>183</td>\n",
       "    </tr>\n",
       "    <tr>\n",
       "      <th>8</th>\n",
       "      <td>handle_15216</td>\n",
       "      <td>id_1000008</td>\n",
       "      <td>computer_os_type_200</td>\n",
       "      <td>computer_browser_version_482</td>\n",
       "      <td>country_146</td>\n",
       "      <td>0</td>\n",
       "      <td>anonymous_c1_1179</td>\n",
       "      <td>anonymous_c2_2683</td>\n",
       "      <td>40</td>\n",
       "      <td>74</td>\n",
       "      <td>204</td>\n",
       "    </tr>\n",
       "  </tbody>\n",
       "</table>\n",
       "</div>"
      ],
      "text/plain": [
       "  drawbridge_handle   cookie_id      computer_os_type  \\\n",
       "1     handle_609762      id_100  computer_os_type_133   \n",
       "2    handle_1622320     id_1000  computer_os_type_203   \n",
       "4    handle_1286628   id_100000  computer_os_type_203   \n",
       "6     handle_226230  id_1000006  computer_os_type_203   \n",
       "8      handle_15216  id_1000008  computer_os_type_200   \n",
       "\n",
       "        computer_browser_version      country  anonymous_c0  \\\n",
       "1   computer_browser_version_875  country_146             1   \n",
       "2    computer_browser_version_36  country_146             0   \n",
       "4   computer_browser_version_875  country_146             0   \n",
       "6  computer_browser_version_1238           -1             1   \n",
       "8   computer_browser_version_482  country_146             0   \n",
       "\n",
       "        anonymous_c1       anonymous_c2  anonymous_5  anonymous_6  anonymous_7  \n",
       "1   anonymous_c1_753                 -1           41            1          204  \n",
       "2   anonymous_c1_906   anonymous_c2_751           40          140          204  \n",
       "4   anonymous_c1_255   anonymous_c2_235           52          134          204  \n",
       "6                 -1                 -1            1          183          183  \n",
       "8  anonymous_c1_1179  anonymous_c2_2683           40           74          204  "
      ]
     },
     "execution_count": 136,
     "metadata": {},
     "output_type": "execute_result"
    }
   ],
   "source": [
    "cookie_training_set_df.head()"
   ]
  },
  {
   "cell_type": "code",
   "execution_count": 137,
   "metadata": {
    "collapsed": false
   },
   "outputs": [
    {
     "data": {
      "text/plain": [
       "handle_1188763    28\n",
       "handle_1069237    25\n",
       "handle_60057      23\n",
       "handle_1501282    23\n",
       "handle_968119     23\n",
       "handle_1458731    22\n",
       "handle_96674      21\n",
       "handle_170493     21\n",
       "handle_844159     21\n",
       "handle_1595183    20\n",
       "dtype: int64"
      ]
     },
     "execution_count": 137,
     "metadata": {},
     "output_type": "execute_result"
    }
   ],
   "source": [
    "unique_drawbridge_handles = cookie_training_set_df['drawbridge_handle'].value_counts()\n",
    "unique_drawbridge_handles[:10]"
   ]
  },
  {
   "cell_type": "markdown",
   "metadata": {},
   "source": [
    "##Most handles are associated with 1 or 2 cookies but some are associated with many more"
   ]
  },
  {
   "cell_type": "code",
   "execution_count": 141,
   "metadata": {
    "collapsed": false
   },
   "outputs": [
    {
     "data": {
      "text/plain": [
       "count    1555794.000000\n",
       "mean           1.056580\n",
       "std            0.326336\n",
       "min            1.000000\n",
       "25%            1.000000\n",
       "50%            1.000000\n",
       "75%            1.000000\n",
       "max           28.000000\n",
       "dtype: float64"
      ]
     },
     "execution_count": 141,
     "metadata": {},
     "output_type": "execute_result"
    }
   ],
   "source": [
    "unique_drawbridge_handles.describe()"
   ]
  },
  {
   "cell_type": "markdown",
   "metadata": {},
   "source": [
    "##Anonymous C0 is a boolean value of 0, 1 (or -1) if not known"
   ]
  },
  {
   "cell_type": "code",
   "execution_count": 142,
   "metadata": {
    "collapsed": false
   },
   "outputs": [
    {
     "data": {
      "text/plain": [
       " 0    1015294\n",
       " 1     386312\n",
       "-1     242215\n",
       "dtype: int64"
      ]
     },
     "execution_count": 142,
     "metadata": {},
     "output_type": "execute_result"
    }
   ],
   "source": [
    "train_anon_C0_count_cookie = cookie_training_set_df['anonymous_c0'].value_counts()\n",
    "train_anon_C0_count_cookie[:10]"
   ]
  },
  {
   "cell_type": "code",
   "execution_count": 143,
   "metadata": {
    "collapsed": false
   },
   "outputs": [
    {
     "data": {
      "text/plain": [
       "<matplotlib.axes._subplots.AxesSubplot at 0x139eeec50>"
      ]
     },
     "execution_count": 143,
     "metadata": {},
     "output_type": "execute_result"
    },
    {
     "data": {
      "image/png": "[encoded data removed]",
      "text/plain": [
       "<matplotlib.figure.Figure at 0x139eec9e8>"
      ]
     },
     "metadata": {},
     "output_type": "display_data"
    }
   ],
   "source": [
    "train_anon_C0_count_cookie.plot(kind=\"bar\")"
   ]
  },
  {
   "cell_type": "markdown",
   "metadata": {},
   "source": [
    "##Anonymous C1 and C2 are categorical values\n"
   ]
  },
  {
   "cell_type": "code",
   "execution_count": 144,
   "metadata": {
    "collapsed": false
   },
   "outputs": [
    {
     "data": {
      "text/plain": [
       "-1                   451483\n",
       "anonymous_c1_255      64423\n",
       "anonymous_c1_1307     38988\n",
       "anonymous_c1_1311     31480\n",
       "anonymous_c1_614      30718\n",
       "anonymous_c1_331      21632\n",
       "anonymous_c1_204      20586\n",
       "anonymous_c1_1089     18564\n",
       "anonymous_c1_60       18553\n",
       "anonymous_c1_1179     18550\n",
       "dtype: int64"
      ]
     },
     "execution_count": 144,
     "metadata": {},
     "output_type": "execute_result"
    }
   ],
   "source": [
    "train_anon_C1_count_cookie = cookie_training_set_df['anonymous_c1'].value_counts()\n",
    "train_anon_C1_count_cookie[:10]"
   ]
  },
  {
   "cell_type": "code",
   "execution_count": 145,
   "metadata": {
    "collapsed": false
   },
   "outputs": [
    {
     "data": {
      "text/plain": [
       "<matplotlib.axes._subplots.AxesSubplot at 0x15208acf8>"
      ]
     },
     "execution_count": 145,
     "metadata": {},
     "output_type": "execute_result"
    },
    {
     "data": {
      "image/png": "[encoded data removed]",
      "text/plain": [
       "<matplotlib.figure.Figure at 0x1520974a8>"
      ]
     },
     "metadata": {},
     "output_type": "display_data"
    }
   ],
   "source": [
    "train_anon_C1_count_cookie[1:].plot(kind=\"bar\")"
   ]
  },
  {
   "cell_type": "markdown",
   "metadata": {},
   "source": [
    "##Again, there is not much data for the category C2"
   ]
  },
  {
   "cell_type": "code",
   "execution_count": 146,
   "metadata": {
    "collapsed": false
   },
   "outputs": [
    {
     "data": {
      "text/plain": [
       "-1                    681568\n",
       "anonymous_c2_836        1408\n",
       "anonymous_c2_130         549\n",
       "anonymous_c2_23245       492\n",
       "anonymous_c2_3574        447\n",
       "anonymous_c2_20406       417\n",
       "anonymous_c2_1392        395\n",
       "anonymous_c2_4165        391\n",
       "anonymous_c2_13616       388\n",
       "anonymous_c2_4794        384\n",
       "dtype: int64"
      ]
     },
     "execution_count": 146,
     "metadata": {},
     "output_type": "execute_result"
    }
   ],
   "source": [
    "train_anon_C2_count_cookie = cookie_training_set_df['anonymous_c2'].value_counts()\n",
    "train_anon_C2_count_cookie[:10]"
   ]
  },
  {
   "cell_type": "markdown",
   "metadata": {},
   "source": [
    "##Anonymous 5"
   ]
  },
  {
   "cell_type": "code",
   "execution_count": 147,
   "metadata": {
    "collapsed": false
   },
   "outputs": [
    {
     "data": {
      "text/plain": [
       "<matplotlib.axes._subplots.AxesSubplot at 0x10d0fc748>"
      ]
     },
     "execution_count": 147,
     "metadata": {},
     "output_type": "execute_result"
    },
    {
     "data": {
      "image/png": "[encoded data removed]",
      "text/plain": [
       "<matplotlib.figure.Figure at 0x10d0f56a0>"
      ]
     },
     "metadata": {},
     "output_type": "display_data"
    }
   ],
   "source": [
    "cookie_training_set_df['anonymous_5'].hist(bins=75)"
   ]
  },
  {
   "cell_type": "code",
   "execution_count": 149,
   "metadata": {
    "collapsed": false
   },
   "outputs": [
    {
     "data": {
      "text/plain": [
       "count    1643821.000000\n",
       "mean          23.975651\n",
       "std           17.437592\n",
       "min            1.000000\n",
       "25%           10.000000\n",
       "50%           21.000000\n",
       "75%           36.000000\n",
       "max          151.000000\n",
       "Name: anonymous_5, dtype: float64"
      ]
     },
     "execution_count": 149,
     "metadata": {},
     "output_type": "execute_result"
    }
   ],
   "source": [
    "cookie_training_set_df['anonymous_5'].describe()"
   ]
  },
  {
   "cell_type": "markdown",
   "metadata": {},
   "source": [
    "##Anonymous 6"
   ]
  },
  {
   "cell_type": "code",
   "execution_count": 152,
   "metadata": {
    "collapsed": false
   },
   "outputs": [
    {
     "data": {
      "text/plain": [
       "<matplotlib.axes._subplots.AxesSubplot at 0x15ef56c50>"
      ]
     },
     "execution_count": 152,
     "metadata": {},
     "output_type": "execute_result"
    },
    {
     "data": {
      "image/png": "[encoded data removed]",
      "text/plain": [
       "<matplotlib.figure.Figure at 0x154a21978>"
      ]
     },
     "metadata": {},
     "output_type": "display_data"
    }
   ],
   "source": [
    "cookie_training_set_df['anonymous_6'].hist(bins=10)"
   ]
  },
  {
   "cell_type": "code",
   "execution_count": 150,
   "metadata": {
    "collapsed": false
   },
   "outputs": [
    {
     "data": {
      "text/plain": [
       "count    1643821.000000\n",
       "mean          62.751028\n",
       "std           67.069044\n",
       "min            0.000000\n",
       "25%            1.000000\n",
       "50%           32.000000\n",
       "75%          139.000000\n",
       "max          204.000000\n",
       "Name: anonymous_6, dtype: float64"
      ]
     },
     "execution_count": 150,
     "metadata": {},
     "output_type": "execute_result"
    }
   ],
   "source": [
    "cookie_training_set_df['anonymous_6'].describe()"
   ]
  },
  {
   "cell_type": "markdown",
   "metadata": {},
   "source": [
    "##Anonymous 7"
   ]
  },
  {
   "cell_type": "code",
   "execution_count": 154,
   "metadata": {
    "collapsed": false
   },
   "outputs": [
    {
     "data": {
      "text/plain": [
       "<matplotlib.axes._subplots.AxesSubplot at 0x15583a668>"
      ]
     },
     "execution_count": 154,
     "metadata": {},
     "output_type": "execute_result"
    },
    {
     "data": {
      "image/png": "[encoded data removed]",
      "text/plain": [
       "<matplotlib.figure.Figure at 0x15cb5ca20>"
      ]
     },
     "metadata": {},
     "output_type": "display_data"
    }
   ],
   "source": [
    "cookie_training_set_df['anonymous_7'].hist(bins=20)"
   ]
  },
  {
   "cell_type": "code",
   "execution_count": 155,
   "metadata": {
    "collapsed": false
   },
   "outputs": [
    {
     "data": {
      "text/plain": [
       "count    1643821.000000\n",
       "mean         195.439671\n",
       "std           15.119494\n",
       "min            0.000000\n",
       "25%          194.000000\n",
       "50%          203.000000\n",
       "75%          204.000000\n",
       "max          204.000000\n",
       "Name: anonymous_7, dtype: float64"
      ]
     },
     "execution_count": 155,
     "metadata": {},
     "output_type": "execute_result"
    }
   ],
   "source": [
    "cookie_training_set_df['anonymous_7'].describe()"
   ]
  },
  {
   "cell_type": "markdown",
   "metadata": {},
   "source": [
    "#IP Address that devices/cookies have visited\n",
    "Along with frequency and some usage metrics.  \n",
    "34M rows"
   ]
  },
  {
   "cell_type": "code",
   "execution_count": 26,
   "metadata": {
    "collapsed": false
   },
   "outputs": [
    {
     "data": {
      "text/html": [
       "<div>\n",
       "<table border=\"1\" class=\"dataframe\">\n",
       "  <thead>\n",
       "    <tr style=\"text-align: right;\">\n",
       "      <th></th>\n",
       "      <th>device_or_cookie_id</th>\n",
       "      <th>device_or_cookie_indicator</th>\n",
       "      <th>ip</th>\n",
       "      <th>ip_freq_count</th>\n",
       "      <th>idxip_anonymous_c1</th>\n",
       "      <th>idxip_anonymous_c2</th>\n",
       "      <th>idxip_anonymous_c3</th>\n",
       "      <th>idxip_anonymous_c4</th>\n",
       "      <th>idxip_anonymous_c5</th>\n",
       "    </tr>\n",
       "  </thead>\n",
       "  <tbody>\n",
       "    <tr>\n",
       "      <th>0</th>\n",
       "      <td>id_25644</td>\n",
       "      <td>1</td>\n",
       "      <td>ip1750664</td>\n",
       "      <td>18</td>\n",
       "      <td>0</td>\n",
       "      <td>1</td>\n",
       "      <td>1</td>\n",
       "      <td>0</td>\n",
       "      <td>1</td>\n",
       "    </tr>\n",
       "    <tr>\n",
       "      <th>1</th>\n",
       "      <td>id_25644</td>\n",
       "      <td>1</td>\n",
       "      <td>ip5400336</td>\n",
       "      <td>38</td>\n",
       "      <td>0</td>\n",
       "      <td>6</td>\n",
       "      <td>1</td>\n",
       "      <td>0</td>\n",
       "      <td>1</td>\n",
       "    </tr>\n",
       "    <tr>\n",
       "      <th>2</th>\n",
       "      <td>id_25644</td>\n",
       "      <td>1</td>\n",
       "      <td>ip5572833</td>\n",
       "      <td>8</td>\n",
       "      <td>0</td>\n",
       "      <td>8</td>\n",
       "      <td>1</td>\n",
       "      <td>0</td>\n",
       "      <td>1</td>\n",
       "    </tr>\n",
       "    <tr>\n",
       "      <th>3</th>\n",
       "      <td>id_25644</td>\n",
       "      <td>1</td>\n",
       "      <td>ip599211</td>\n",
       "      <td>24</td>\n",
       "      <td>0</td>\n",
       "      <td>24</td>\n",
       "      <td>1</td>\n",
       "      <td>0</td>\n",
       "      <td>1</td>\n",
       "    </tr>\n",
       "    <tr>\n",
       "      <th>4</th>\n",
       "      <td>id_25644</td>\n",
       "      <td>1</td>\n",
       "      <td>ip8273121</td>\n",
       "      <td>21</td>\n",
       "      <td>0</td>\n",
       "      <td>0</td>\n",
       "      <td>1</td>\n",
       "      <td>0</td>\n",
       "      <td>0</td>\n",
       "    </tr>\n",
       "  </tbody>\n",
       "</table>\n",
       "</div>"
      ],
      "text/plain": [
       "  device_or_cookie_id  device_or_cookie_indicator         ip  ip_freq_count  \\\n",
       "0            id_25644                           1  ip1750664             18   \n",
       "1            id_25644                           1  ip5400336             38   \n",
       "2            id_25644                           1  ip5572833              8   \n",
       "3            id_25644                           1   ip599211             24   \n",
       "4            id_25644                           1  ip8273121             21   \n",
       "\n",
       "   idxip_anonymous_c1  idxip_anonymous_c2  idxip_anonymous_c3  \\\n",
       "0                   0                   1                   1   \n",
       "1                   0                   6                   1   \n",
       "2                   0                   8                   1   \n",
       "3                   0                  24                   1   \n",
       "4                   0                   0                   1   \n",
       "\n",
       "   idxip_anonymous_c4  idxip_anonymous_c5  \n",
       "0                   0                   1  \n",
       "1                   0                   1  \n",
       "2                   0                   1  \n",
       "3                   0                   1  \n",
       "4                   0                   0  "
      ]
     },
     "execution_count": 26,
     "metadata": {},
     "output_type": "execute_result"
    }
   ],
   "source": [
    "id_all_ip_df.head()"
   ]
  },
  {
   "cell_type": "code",
   "execution_count": 55,
   "metadata": {
    "collapsed": false
   },
   "outputs": [
    {
     "data": {
      "text/plain": [
       "(34176619, 9)"
      ]
     },
     "execution_count": 55,
     "metadata": {},
     "output_type": "execute_result"
    }
   ],
   "source": [
    "id_all_ip_df.shape"
   ]
  },
  {
   "cell_type": "markdown",
   "metadata": {},
   "source": [
    "#First divide data into Device or Cookie type"
   ]
  },
  {
   "cell_type": "markdown",
   "metadata": {},
   "source": [
    "##Look at Cookie type first"
   ]
  },
  {
   "cell_type": "code",
   "execution_count": 64,
   "metadata": {
    "collapsed": false
   },
   "outputs": [],
   "source": [
    "cookie_id_all_ip_df = id_all_ip_df[id_all_ip_df['device_or_cookie_indicator'] == 1]"
   ]
  },
  {
   "cell_type": "code",
   "execution_count": 65,
   "metadata": {
    "collapsed": false
   },
   "outputs": [
    {
     "data": {
      "text/plain": [
       "(31249705, 9)"
      ]
     },
     "execution_count": 65,
     "metadata": {},
     "output_type": "execute_result"
    }
   ],
   "source": [
    "cookie_id_all_ip_df.shape"
   ]
  },
  {
   "cell_type": "markdown",
   "metadata": {},
   "source": [
    "##Lets see how many IPs the different cookies have used."
   ]
  },
  {
   "cell_type": "code",
   "execution_count": 73,
   "metadata": {
    "collapsed": true
   },
   "outputs": [],
   "source": [
    "ip_by_cookie_counts = cookie_id_all_ip_df['device_or_cookie_id'].value_counts()"
   ]
  },
  {
   "cell_type": "code",
   "execution_count": 89,
   "metadata": {
    "collapsed": false
   },
   "outputs": [
    {
     "data": {
      "text/plain": [
       "id_2184938    1429\n",
       "id_225060     1340\n",
       "id_2749692    1308\n",
       "id_683471     1230\n",
       "id_4599775    1162\n",
       "dtype: int64"
      ]
     },
     "execution_count": 89,
     "metadata": {},
     "output_type": "execute_result"
    }
   ],
   "source": [
    "ip_by_cookie_counts.head()"
   ]
  },
  {
   "cell_type": "markdown",
   "metadata": {},
   "source": [
    "##Most use between 2 and 13 ip addresses, but some use way more."
   ]
  },
  {
   "cell_type": "code",
   "execution_count": 129,
   "metadata": {
    "collapsed": false
   },
   "outputs": [
    {
     "data": {
      "text/plain": [
       "count    2175520.000000\n",
       "mean          14.364246\n",
       "std           34.295543\n",
       "min            1.000000\n",
       "25%            2.000000\n",
       "50%            5.000000\n",
       "75%           13.000000\n",
       "max         1429.000000\n",
       "dtype: float64"
      ]
     },
     "execution_count": 129,
     "metadata": {},
     "output_type": "execute_result"
    }
   ],
   "source": [
    "ip_by_cookie_counts.describe()"
   ]
  },
  {
   "cell_type": "code",
   "execution_count": 75,
   "metadata": {
    "collapsed": false
   },
   "outputs": [
    {
     "data": {
      "text/plain": [
       "id_1339399    1\n",
       "id_1289563    1\n",
       "id_3751937    1\n",
       "id_2812111    1\n",
       "id_968655     1\n",
       "dtype: int64"
      ]
     },
     "execution_count": 75,
     "metadata": {},
     "output_type": "execute_result"
    }
   ],
   "source": [
    "ip_by_cookie_counts.tail()"
   ]
  },
  {
   "cell_type": "code",
   "execution_count": 90,
   "metadata": {
    "collapsed": false
   },
   "outputs": [
    {
     "data": {
      "text/plain": [
       "<matplotlib.axes._subplots.AxesSubplot at 0x12e85d080>"
      ]
     },
     "execution_count": 90,
     "metadata": {},
     "output_type": "execute_result"
    },
    {
     "data": {
      "image/png": "[encoded data removed]",
      "text/plain": [
       "<matplotlib.figure.Figure at 0x12e840a20>"
      ]
     },
     "metadata": {},
     "output_type": "display_data"
    }
   ],
   "source": [
    "ip_by_cookie_counts.hist(bins=200)"
   ]
  },
  {
   "cell_type": "markdown",
   "metadata": {},
   "source": [
    "##Look at Devices next"
   ]
  },
  {
   "cell_type": "code",
   "execution_count": 66,
   "metadata": {
    "collapsed": true
   },
   "outputs": [],
   "source": [
    "device_id_all_ip_df = id_all_ip_df[id_all_ip_df['device_or_cookie_indicator'] == 0]"
   ]
  },
  {
   "cell_type": "code",
   "execution_count": 67,
   "metadata": {
    "collapsed": false
   },
   "outputs": [
    {
     "data": {
      "text/plain": [
       "(2926914, 9)"
      ]
     },
     "execution_count": 67,
     "metadata": {},
     "output_type": "execute_result"
    }
   ],
   "source": [
    "device_id_all_ip_df.shape"
   ]
  },
  {
   "cell_type": "code",
   "execution_count": 71,
   "metadata": {
    "collapsed": false
   },
   "outputs": [],
   "source": [
    "ip_by_device_counts = device_id_all_ip_df['device_or_cookie_id'].value_counts()"
   ]
  },
  {
   "cell_type": "code",
   "execution_count": 72,
   "metadata": {
    "collapsed": false
   },
   "outputs": [
    {
     "data": {
      "text/plain": [
       "id_2722401    794\n",
       "id_4515976    642\n",
       "id_1457770    620\n",
       "id_3267775    533\n",
       "id_1816804    521\n",
       "id_2348513    516\n",
       "id_4447328    499\n",
       "id_4411748    464\n",
       "id_2999953    435\n",
       "id_4468076    416\n",
       "dtype: int64"
      ]
     },
     "execution_count": 72,
     "metadata": {},
     "output_type": "execute_result"
    }
   ],
   "source": [
    "ip_by_device_counts.head(10)"
   ]
  },
  {
   "cell_type": "markdown",
   "metadata": {},
   "source": [
    "##Most use between 3 and 17 IPs, but some use a lot more."
   ]
  },
  {
   "cell_type": "code",
   "execution_count": 130,
   "metadata": {
    "collapsed": false
   },
   "outputs": [
    {
     "data": {
      "text/plain": [
       "count    214726.000000\n",
       "mean         13.630925\n",
       "std          19.105262\n",
       "min           1.000000\n",
       "25%           3.000000\n",
       "50%           7.000000\n",
       "75%          17.000000\n",
       "max         794.000000\n",
       "dtype: float64"
      ]
     },
     "execution_count": 130,
     "metadata": {},
     "output_type": "execute_result"
    }
   ],
   "source": [
    "ip_by_device_counts.describe()"
   ]
  },
  {
   "cell_type": "code",
   "execution_count": 92,
   "metadata": {
    "collapsed": false
   },
   "outputs": [
    {
     "data": {
      "text/plain": [
       "<matplotlib.axes._subplots.AxesSubplot at 0x133201748>"
      ]
     },
     "execution_count": 92,
     "metadata": {},
     "output_type": "execute_result"
    },
    {
     "data": {
      "image/png": "[encoded data removed]",
      "text/plain": [
       "<matplotlib.figure.Figure at 0x133174438>"
      ]
     },
     "metadata": {},
     "output_type": "display_data"
    }
   ],
   "source": [
    "ip_by_device_counts.hist(bins=200)"
   ]
  },
  {
   "cell_type": "code",
   "execution_count": 156,
   "metadata": {
    "collapsed": false
   },
   "outputs": [
    {
     "data": {
      "text/html": [
       "<div>\n",
       "<table border=\"1\" class=\"dataframe\">\n",
       "  <thead>\n",
       "    <tr style=\"text-align: right;\">\n",
       "      <th></th>\n",
       "      <th>device_or_cookie_id</th>\n",
       "      <th>device_or_cookie_indicator</th>\n",
       "      <th>ip</th>\n",
       "      <th>ip_freq_count</th>\n",
       "      <th>idxip_anonymous_c1</th>\n",
       "      <th>idxip_anonymous_c2</th>\n",
       "      <th>idxip_anonymous_c3</th>\n",
       "      <th>idxip_anonymous_c4</th>\n",
       "      <th>idxip_anonymous_c5</th>\n",
       "    </tr>\n",
       "  </thead>\n",
       "  <tbody>\n",
       "    <tr>\n",
       "      <th>31249705</th>\n",
       "      <td>id_4676078</td>\n",
       "      <td>0</td>\n",
       "      <td>ip4110970</td>\n",
       "      <td>87</td>\n",
       "      <td>0</td>\n",
       "      <td>87</td>\n",
       "      <td>1</td>\n",
       "      <td>0</td>\n",
       "      <td>1</td>\n",
       "    </tr>\n",
       "    <tr>\n",
       "      <th>31249706</th>\n",
       "      <td>id_4676078</td>\n",
       "      <td>0</td>\n",
       "      <td>ip20364193</td>\n",
       "      <td>73</td>\n",
       "      <td>73</td>\n",
       "      <td>6</td>\n",
       "      <td>2</td>\n",
       "      <td>3</td>\n",
       "      <td>1</td>\n",
       "    </tr>\n",
       "    <tr>\n",
       "      <th>31249707</th>\n",
       "      <td>id_4676078</td>\n",
       "      <td>0</td>\n",
       "      <td>ip8232100</td>\n",
       "      <td>223</td>\n",
       "      <td>223</td>\n",
       "      <td>177</td>\n",
       "      <td>1</td>\n",
       "      <td>1</td>\n",
       "      <td>1</td>\n",
       "    </tr>\n",
       "    <tr>\n",
       "      <th>31249708</th>\n",
       "      <td>id_4676078</td>\n",
       "      <td>0</td>\n",
       "      <td>ip1078323</td>\n",
       "      <td>4</td>\n",
       "      <td>0</td>\n",
       "      <td>4</td>\n",
       "      <td>1</td>\n",
       "      <td>0</td>\n",
       "      <td>1</td>\n",
       "    </tr>\n",
       "    <tr>\n",
       "      <th>31249709</th>\n",
       "      <td>id_4676078</td>\n",
       "      <td>0</td>\n",
       "      <td>ip14290649</td>\n",
       "      <td>1</td>\n",
       "      <td>1</td>\n",
       "      <td>1</td>\n",
       "      <td>1</td>\n",
       "      <td>1</td>\n",
       "      <td>1</td>\n",
       "    </tr>\n",
       "    <tr>\n",
       "      <th>31249710</th>\n",
       "      <td>id_2453662</td>\n",
       "      <td>0</td>\n",
       "      <td>ip8318203</td>\n",
       "      <td>1</td>\n",
       "      <td>0</td>\n",
       "      <td>1</td>\n",
       "      <td>1</td>\n",
       "      <td>0</td>\n",
       "      <td>1</td>\n",
       "    </tr>\n",
       "    <tr>\n",
       "      <th>31249711</th>\n",
       "      <td>id_2453662</td>\n",
       "      <td>0</td>\n",
       "      <td>ip10992210</td>\n",
       "      <td>1</td>\n",
       "      <td>1</td>\n",
       "      <td>1</td>\n",
       "      <td>1</td>\n",
       "      <td>1</td>\n",
       "      <td>1</td>\n",
       "    </tr>\n",
       "    <tr>\n",
       "      <th>31249712</th>\n",
       "      <td>id_2453662</td>\n",
       "      <td>0</td>\n",
       "      <td>ip3014945</td>\n",
       "      <td>2</td>\n",
       "      <td>2</td>\n",
       "      <td>2</td>\n",
       "      <td>2</td>\n",
       "      <td>2</td>\n",
       "      <td>2</td>\n",
       "    </tr>\n",
       "    <tr>\n",
       "      <th>31249713</th>\n",
       "      <td>id_2453662</td>\n",
       "      <td>0</td>\n",
       "      <td>ip14978679</td>\n",
       "      <td>6</td>\n",
       "      <td>0</td>\n",
       "      <td>6</td>\n",
       "      <td>1</td>\n",
       "      <td>0</td>\n",
       "      <td>1</td>\n",
       "    </tr>\n",
       "    <tr>\n",
       "      <th>31249714</th>\n",
       "      <td>id_2453662</td>\n",
       "      <td>0</td>\n",
       "      <td>ip1664385</td>\n",
       "      <td>1</td>\n",
       "      <td>1</td>\n",
       "      <td>1</td>\n",
       "      <td>1</td>\n",
       "      <td>1</td>\n",
       "      <td>1</td>\n",
       "    </tr>\n",
       "    <tr>\n",
       "      <th>31249720</th>\n",
       "      <td>id_1072320</td>\n",
       "      <td>0</td>\n",
       "      <td>ip1083054</td>\n",
       "      <td>50</td>\n",
       "      <td>50</td>\n",
       "      <td>50</td>\n",
       "      <td>1</td>\n",
       "      <td>1</td>\n",
       "      <td>1</td>\n",
       "    </tr>\n",
       "    <tr>\n",
       "      <th>31249721</th>\n",
       "      <td>id_1072320</td>\n",
       "      <td>0</td>\n",
       "      <td>ip12390929</td>\n",
       "      <td>12</td>\n",
       "      <td>0</td>\n",
       "      <td>12</td>\n",
       "      <td>1</td>\n",
       "      <td>0</td>\n",
       "      <td>1</td>\n",
       "    </tr>\n",
       "    <tr>\n",
       "      <th>31249722</th>\n",
       "      <td>id_1072320</td>\n",
       "      <td>0</td>\n",
       "      <td>ip17544883</td>\n",
       "      <td>5</td>\n",
       "      <td>0</td>\n",
       "      <td>5</td>\n",
       "      <td>1</td>\n",
       "      <td>0</td>\n",
       "      <td>1</td>\n",
       "    </tr>\n",
       "    <tr>\n",
       "      <th>31249723</th>\n",
       "      <td>id_1072320</td>\n",
       "      <td>0</td>\n",
       "      <td>ip6859050</td>\n",
       "      <td>16</td>\n",
       "      <td>0</td>\n",
       "      <td>16</td>\n",
       "      <td>1</td>\n",
       "      <td>0</td>\n",
       "      <td>1</td>\n",
       "    </tr>\n",
       "    <tr>\n",
       "      <th>31249724</th>\n",
       "      <td>id_1072320</td>\n",
       "      <td>0</td>\n",
       "      <td>ip7517913</td>\n",
       "      <td>1</td>\n",
       "      <td>0</td>\n",
       "      <td>1</td>\n",
       "      <td>1</td>\n",
       "      <td>0</td>\n",
       "      <td>1</td>\n",
       "    </tr>\n",
       "    <tr>\n",
       "      <th>31249735</th>\n",
       "      <td>id_583432</td>\n",
       "      <td>0</td>\n",
       "      <td>ip17097305</td>\n",
       "      <td>130</td>\n",
       "      <td>0</td>\n",
       "      <td>130</td>\n",
       "      <td>1</td>\n",
       "      <td>0</td>\n",
       "      <td>1</td>\n",
       "    </tr>\n",
       "    <tr>\n",
       "      <th>31249736</th>\n",
       "      <td>id_583432</td>\n",
       "      <td>0</td>\n",
       "      <td>ip13906571</td>\n",
       "      <td>70</td>\n",
       "      <td>70</td>\n",
       "      <td>0</td>\n",
       "      <td>1</td>\n",
       "      <td>1</td>\n",
       "      <td>0</td>\n",
       "    </tr>\n",
       "    <tr>\n",
       "      <th>31249737</th>\n",
       "      <td>id_583432</td>\n",
       "      <td>0</td>\n",
       "      <td>ip9091717</td>\n",
       "      <td>9</td>\n",
       "      <td>9</td>\n",
       "      <td>9</td>\n",
       "      <td>1</td>\n",
       "      <td>1</td>\n",
       "      <td>1</td>\n",
       "    </tr>\n",
       "    <tr>\n",
       "      <th>31249738</th>\n",
       "      <td>id_583432</td>\n",
       "      <td>0</td>\n",
       "      <td>ip20921216</td>\n",
       "      <td>41</td>\n",
       "      <td>0</td>\n",
       "      <td>41</td>\n",
       "      <td>1</td>\n",
       "      <td>0</td>\n",
       "      <td>1</td>\n",
       "    </tr>\n",
       "    <tr>\n",
       "      <th>31249739</th>\n",
       "      <td>id_583432</td>\n",
       "      <td>0</td>\n",
       "      <td>ip17035484</td>\n",
       "      <td>113</td>\n",
       "      <td>113</td>\n",
       "      <td>113</td>\n",
       "      <td>1</td>\n",
       "      <td>1</td>\n",
       "      <td>1</td>\n",
       "    </tr>\n",
       "    <tr>\n",
       "      <th>31249748</th>\n",
       "      <td>id_4065782</td>\n",
       "      <td>0</td>\n",
       "      <td>ip1432527</td>\n",
       "      <td>2</td>\n",
       "      <td>0</td>\n",
       "      <td>2</td>\n",
       "      <td>1</td>\n",
       "      <td>0</td>\n",
       "      <td>1</td>\n",
       "    </tr>\n",
       "    <tr>\n",
       "      <th>31249749</th>\n",
       "      <td>id_4065782</td>\n",
       "      <td>0</td>\n",
       "      <td>ip17559741</td>\n",
       "      <td>2</td>\n",
       "      <td>0</td>\n",
       "      <td>2</td>\n",
       "      <td>1</td>\n",
       "      <td>0</td>\n",
       "      <td>1</td>\n",
       "    </tr>\n",
       "    <tr>\n",
       "      <th>31249750</th>\n",
       "      <td>id_4065782</td>\n",
       "      <td>0</td>\n",
       "      <td>ip8999284</td>\n",
       "      <td>3</td>\n",
       "      <td>3</td>\n",
       "      <td>3</td>\n",
       "      <td>1</td>\n",
       "      <td>1</td>\n",
       "      <td>1</td>\n",
       "    </tr>\n",
       "    <tr>\n",
       "      <th>31249751</th>\n",
       "      <td>id_4065782</td>\n",
       "      <td>0</td>\n",
       "      <td>ip3122972</td>\n",
       "      <td>3</td>\n",
       "      <td>0</td>\n",
       "      <td>3</td>\n",
       "      <td>2</td>\n",
       "      <td>0</td>\n",
       "      <td>2</td>\n",
       "    </tr>\n",
       "    <tr>\n",
       "      <th>31249752</th>\n",
       "      <td>id_4065782</td>\n",
       "      <td>0</td>\n",
       "      <td>ip14825503</td>\n",
       "      <td>3</td>\n",
       "      <td>0</td>\n",
       "      <td>3</td>\n",
       "      <td>1</td>\n",
       "      <td>0</td>\n",
       "      <td>1</td>\n",
       "    </tr>\n",
       "    <tr>\n",
       "      <th>31249759</th>\n",
       "      <td>id_3695115</td>\n",
       "      <td>0</td>\n",
       "      <td>ip7109375</td>\n",
       "      <td>5</td>\n",
       "      <td>5</td>\n",
       "      <td>0</td>\n",
       "      <td>1</td>\n",
       "      <td>1</td>\n",
       "      <td>0</td>\n",
       "    </tr>\n",
       "    <tr>\n",
       "      <th>31249760</th>\n",
       "      <td>id_3695115</td>\n",
       "      <td>0</td>\n",
       "      <td>ip12957418</td>\n",
       "      <td>5</td>\n",
       "      <td>5</td>\n",
       "      <td>5</td>\n",
       "      <td>1</td>\n",
       "      <td>1</td>\n",
       "      <td>1</td>\n",
       "    </tr>\n",
       "    <tr>\n",
       "      <th>31249761</th>\n",
       "      <td>id_3695115</td>\n",
       "      <td>0</td>\n",
       "      <td>ip18868967</td>\n",
       "      <td>104</td>\n",
       "      <td>0</td>\n",
       "      <td>64</td>\n",
       "      <td>4</td>\n",
       "      <td>0</td>\n",
       "      <td>1</td>\n",
       "    </tr>\n",
       "    <tr>\n",
       "      <th>31249762</th>\n",
       "      <td>id_3695115</td>\n",
       "      <td>0</td>\n",
       "      <td>ip3204072</td>\n",
       "      <td>12</td>\n",
       "      <td>0</td>\n",
       "      <td>0</td>\n",
       "      <td>1</td>\n",
       "      <td>1</td>\n",
       "      <td>0</td>\n",
       "    </tr>\n",
       "    <tr>\n",
       "      <th>31249763</th>\n",
       "      <td>id_3695115</td>\n",
       "      <td>0</td>\n",
       "      <td>ip20219778</td>\n",
       "      <td>44</td>\n",
       "      <td>24</td>\n",
       "      <td>20</td>\n",
       "      <td>2</td>\n",
       "      <td>1</td>\n",
       "      <td>1</td>\n",
       "    </tr>\n",
       "    <tr>\n",
       "      <th>...</th>\n",
       "      <td>...</td>\n",
       "      <td>...</td>\n",
       "      <td>...</td>\n",
       "      <td>...</td>\n",
       "      <td>...</td>\n",
       "      <td>...</td>\n",
       "      <td>...</td>\n",
       "      <td>...</td>\n",
       "      <td>...</td>\n",
       "    </tr>\n",
       "    <tr>\n",
       "      <th>34176583</th>\n",
       "      <td>id_4026043</td>\n",
       "      <td>0</td>\n",
       "      <td>ip14597282</td>\n",
       "      <td>4</td>\n",
       "      <td>0</td>\n",
       "      <td>4</td>\n",
       "      <td>1</td>\n",
       "      <td>0</td>\n",
       "      <td>1</td>\n",
       "    </tr>\n",
       "    <tr>\n",
       "      <th>34176584</th>\n",
       "      <td>id_4026043</td>\n",
       "      <td>0</td>\n",
       "      <td>ip9144079</td>\n",
       "      <td>4</td>\n",
       "      <td>0</td>\n",
       "      <td>4</td>\n",
       "      <td>1</td>\n",
       "      <td>1</td>\n",
       "      <td>1</td>\n",
       "    </tr>\n",
       "    <tr>\n",
       "      <th>34176585</th>\n",
       "      <td>id_4026043</td>\n",
       "      <td>0</td>\n",
       "      <td>ip8681419</td>\n",
       "      <td>1</td>\n",
       "      <td>0</td>\n",
       "      <td>0</td>\n",
       "      <td>1</td>\n",
       "      <td>0</td>\n",
       "      <td>0</td>\n",
       "    </tr>\n",
       "    <tr>\n",
       "      <th>34176588</th>\n",
       "      <td>id_2798332</td>\n",
       "      <td>0</td>\n",
       "      <td>ip18110211</td>\n",
       "      <td>5</td>\n",
       "      <td>0</td>\n",
       "      <td>0</td>\n",
       "      <td>2</td>\n",
       "      <td>0</td>\n",
       "      <td>0</td>\n",
       "    </tr>\n",
       "    <tr>\n",
       "      <th>34176589</th>\n",
       "      <td>id_2798332</td>\n",
       "      <td>0</td>\n",
       "      <td>ip12874390</td>\n",
       "      <td>42</td>\n",
       "      <td>0</td>\n",
       "      <td>0</td>\n",
       "      <td>1</td>\n",
       "      <td>0</td>\n",
       "      <td>0</td>\n",
       "    </tr>\n",
       "    <tr>\n",
       "      <th>34176590</th>\n",
       "      <td>id_2798332</td>\n",
       "      <td>0</td>\n",
       "      <td>ip1303019</td>\n",
       "      <td>1</td>\n",
       "      <td>0</td>\n",
       "      <td>1</td>\n",
       "      <td>2</td>\n",
       "      <td>0</td>\n",
       "      <td>1</td>\n",
       "    </tr>\n",
       "    <tr>\n",
       "      <th>34176591</th>\n",
       "      <td>id_2798332</td>\n",
       "      <td>0</td>\n",
       "      <td>ip2003425</td>\n",
       "      <td>20</td>\n",
       "      <td>20</td>\n",
       "      <td>0</td>\n",
       "      <td>1</td>\n",
       "      <td>1</td>\n",
       "      <td>0</td>\n",
       "    </tr>\n",
       "    <tr>\n",
       "      <th>34176592</th>\n",
       "      <td>id_3817942</td>\n",
       "      <td>0</td>\n",
       "      <td>ip4287</td>\n",
       "      <td>2</td>\n",
       "      <td>2</td>\n",
       "      <td>2</td>\n",
       "      <td>1</td>\n",
       "      <td>1</td>\n",
       "      <td>1</td>\n",
       "    </tr>\n",
       "    <tr>\n",
       "      <th>34176593</th>\n",
       "      <td>id_3817942</td>\n",
       "      <td>0</td>\n",
       "      <td>ip5757250</td>\n",
       "      <td>13</td>\n",
       "      <td>0</td>\n",
       "      <td>10</td>\n",
       "      <td>2</td>\n",
       "      <td>0</td>\n",
       "      <td>2</td>\n",
       "    </tr>\n",
       "    <tr>\n",
       "      <th>34176594</th>\n",
       "      <td>id_3817942</td>\n",
       "      <td>0</td>\n",
       "      <td>ip15547757</td>\n",
       "      <td>1</td>\n",
       "      <td>0</td>\n",
       "      <td>0</td>\n",
       "      <td>1</td>\n",
       "      <td>0</td>\n",
       "      <td>0</td>\n",
       "    </tr>\n",
       "    <tr>\n",
       "      <th>34176595</th>\n",
       "      <td>id_3817942</td>\n",
       "      <td>0</td>\n",
       "      <td>ip19546106</td>\n",
       "      <td>47</td>\n",
       "      <td>47</td>\n",
       "      <td>47</td>\n",
       "      <td>1</td>\n",
       "      <td>1</td>\n",
       "      <td>1</td>\n",
       "    </tr>\n",
       "    <tr>\n",
       "      <th>34176596</th>\n",
       "      <td>id_3817942</td>\n",
       "      <td>0</td>\n",
       "      <td>ip10357540</td>\n",
       "      <td>5</td>\n",
       "      <td>0</td>\n",
       "      <td>5</td>\n",
       "      <td>2</td>\n",
       "      <td>1</td>\n",
       "      <td>1</td>\n",
       "    </tr>\n",
       "    <tr>\n",
       "      <th>34176600</th>\n",
       "      <td>id_2530572</td>\n",
       "      <td>0</td>\n",
       "      <td>ip19375340</td>\n",
       "      <td>8</td>\n",
       "      <td>6</td>\n",
       "      <td>8</td>\n",
       "      <td>2</td>\n",
       "      <td>1</td>\n",
       "      <td>2</td>\n",
       "    </tr>\n",
       "    <tr>\n",
       "      <th>34176601</th>\n",
       "      <td>id_2530572</td>\n",
       "      <td>0</td>\n",
       "      <td>ip10596575</td>\n",
       "      <td>2</td>\n",
       "      <td>0</td>\n",
       "      <td>0</td>\n",
       "      <td>1</td>\n",
       "      <td>0</td>\n",
       "      <td>0</td>\n",
       "    </tr>\n",
       "    <tr>\n",
       "      <th>34176602</th>\n",
       "      <td>id_2530572</td>\n",
       "      <td>0</td>\n",
       "      <td>ip15517787</td>\n",
       "      <td>6</td>\n",
       "      <td>2</td>\n",
       "      <td>2</td>\n",
       "      <td>4</td>\n",
       "      <td>1</td>\n",
       "      <td>1</td>\n",
       "    </tr>\n",
       "    <tr>\n",
       "      <th>34176603</th>\n",
       "      <td>id_2530572</td>\n",
       "      <td>0</td>\n",
       "      <td>ip7082223</td>\n",
       "      <td>10</td>\n",
       "      <td>0</td>\n",
       "      <td>10</td>\n",
       "      <td>1</td>\n",
       "      <td>0</td>\n",
       "      <td>1</td>\n",
       "    </tr>\n",
       "    <tr>\n",
       "      <th>34176604</th>\n",
       "      <td>id_2530572</td>\n",
       "      <td>0</td>\n",
       "      <td>ip6420435</td>\n",
       "      <td>4</td>\n",
       "      <td>0</td>\n",
       "      <td>4</td>\n",
       "      <td>3</td>\n",
       "      <td>0</td>\n",
       "      <td>2</td>\n",
       "    </tr>\n",
       "    <tr>\n",
       "      <th>34176605</th>\n",
       "      <td>id_478567</td>\n",
       "      <td>0</td>\n",
       "      <td>ip15551109</td>\n",
       "      <td>1</td>\n",
       "      <td>0</td>\n",
       "      <td>1</td>\n",
       "      <td>1</td>\n",
       "      <td>0</td>\n",
       "      <td>1</td>\n",
       "    </tr>\n",
       "    <tr>\n",
       "      <th>34176606</th>\n",
       "      <td>id_528428</td>\n",
       "      <td>0</td>\n",
       "      <td>ip9052523</td>\n",
       "      <td>2</td>\n",
       "      <td>0</td>\n",
       "      <td>0</td>\n",
       "      <td>1</td>\n",
       "      <td>0</td>\n",
       "      <td>0</td>\n",
       "    </tr>\n",
       "    <tr>\n",
       "      <th>34176607</th>\n",
       "      <td>id_528428</td>\n",
       "      <td>0</td>\n",
       "      <td>ip8613213</td>\n",
       "      <td>2</td>\n",
       "      <td>2</td>\n",
       "      <td>0</td>\n",
       "      <td>1</td>\n",
       "      <td>1</td>\n",
       "      <td>0</td>\n",
       "    </tr>\n",
       "    <tr>\n",
       "      <th>34176608</th>\n",
       "      <td>id_1140893</td>\n",
       "      <td>0</td>\n",
       "      <td>ip18895924</td>\n",
       "      <td>29</td>\n",
       "      <td>0</td>\n",
       "      <td>0</td>\n",
       "      <td>1</td>\n",
       "      <td>0</td>\n",
       "      <td>0</td>\n",
       "    </tr>\n",
       "    <tr>\n",
       "      <th>34176609</th>\n",
       "      <td>id_1140893</td>\n",
       "      <td>0</td>\n",
       "      <td>ip18972712</td>\n",
       "      <td>542</td>\n",
       "      <td>0</td>\n",
       "      <td>0</td>\n",
       "      <td>2</td>\n",
       "      <td>0</td>\n",
       "      <td>0</td>\n",
       "    </tr>\n",
       "    <tr>\n",
       "      <th>34176610</th>\n",
       "      <td>id_1140893</td>\n",
       "      <td>0</td>\n",
       "      <td>ip6951624</td>\n",
       "      <td>34</td>\n",
       "      <td>34</td>\n",
       "      <td>34</td>\n",
       "      <td>1</td>\n",
       "      <td>1</td>\n",
       "      <td>1</td>\n",
       "    </tr>\n",
       "    <tr>\n",
       "      <th>34176611</th>\n",
       "      <td>id_1140893</td>\n",
       "      <td>0</td>\n",
       "      <td>ip16825846</td>\n",
       "      <td>152</td>\n",
       "      <td>0</td>\n",
       "      <td>41</td>\n",
       "      <td>5</td>\n",
       "      <td>0</td>\n",
       "      <td>5</td>\n",
       "    </tr>\n",
       "    <tr>\n",
       "      <th>34176612</th>\n",
       "      <td>id_2631917</td>\n",
       "      <td>0</td>\n",
       "      <td>ip20907397</td>\n",
       "      <td>11</td>\n",
       "      <td>0</td>\n",
       "      <td>11</td>\n",
       "      <td>1</td>\n",
       "      <td>0</td>\n",
       "      <td>1</td>\n",
       "    </tr>\n",
       "    <tr>\n",
       "      <th>34176613</th>\n",
       "      <td>id_1230117</td>\n",
       "      <td>0</td>\n",
       "      <td>ip6139496</td>\n",
       "      <td>5</td>\n",
       "      <td>0</td>\n",
       "      <td>5</td>\n",
       "      <td>1</td>\n",
       "      <td>0</td>\n",
       "      <td>1</td>\n",
       "    </tr>\n",
       "    <tr>\n",
       "      <th>34176614</th>\n",
       "      <td>id_1230117</td>\n",
       "      <td>0</td>\n",
       "      <td>ip10509879</td>\n",
       "      <td>2</td>\n",
       "      <td>0</td>\n",
       "      <td>0</td>\n",
       "      <td>1</td>\n",
       "      <td>0</td>\n",
       "      <td>0</td>\n",
       "    </tr>\n",
       "    <tr>\n",
       "      <th>34176615</th>\n",
       "      <td>id_1230117</td>\n",
       "      <td>0</td>\n",
       "      <td>ip4406665</td>\n",
       "      <td>13</td>\n",
       "      <td>0</td>\n",
       "      <td>4</td>\n",
       "      <td>1</td>\n",
       "      <td>0</td>\n",
       "      <td>1</td>\n",
       "    </tr>\n",
       "    <tr>\n",
       "      <th>34176616</th>\n",
       "      <td>id_1230117</td>\n",
       "      <td>0</td>\n",
       "      <td>ip7963751</td>\n",
       "      <td>17</td>\n",
       "      <td>15</td>\n",
       "      <td>3</td>\n",
       "      <td>5</td>\n",
       "      <td>2</td>\n",
       "      <td>1</td>\n",
       "    </tr>\n",
       "    <tr>\n",
       "      <th>34176617</th>\n",
       "      <td>id_1230117</td>\n",
       "      <td>0</td>\n",
       "      <td>ip6780385</td>\n",
       "      <td>6</td>\n",
       "      <td>6</td>\n",
       "      <td>6</td>\n",
       "      <td>2</td>\n",
       "      <td>2</td>\n",
       "      <td>2</td>\n",
       "    </tr>\n",
       "  </tbody>\n",
       "</table>\n",
       "<p>842550 rows × 9 columns</p>\n",
       "</div>"
      ],
      "text/plain": [
       "         device_or_cookie_id  device_or_cookie_indicator          ip  \\\n",
       "31249705          id_4676078                           0   ip4110970   \n",
       "31249706          id_4676078                           0  ip20364193   \n",
       "31249707          id_4676078                           0   ip8232100   \n",
       "31249708          id_4676078                           0   ip1078323   \n",
       "31249709          id_4676078                           0  ip14290649   \n",
       "31249710          id_2453662                           0   ip8318203   \n",
       "31249711          id_2453662                           0  ip10992210   \n",
       "31249712          id_2453662                           0   ip3014945   \n",
       "31249713          id_2453662                           0  ip14978679   \n",
       "31249714          id_2453662                           0   ip1664385   \n",
       "31249720          id_1072320                           0   ip1083054   \n",
       "31249721          id_1072320                           0  ip12390929   \n",
       "31249722          id_1072320                           0  ip17544883   \n",
       "31249723          id_1072320                           0   ip6859050   \n",
       "31249724          id_1072320                           0   ip7517913   \n",
       "31249735           id_583432                           0  ip17097305   \n",
       "31249736           id_583432                           0  ip13906571   \n",
       "31249737           id_583432                           0   ip9091717   \n",
       "31249738           id_583432                           0  ip20921216   \n",
       "31249739           id_583432                           0  ip17035484   \n",
       "31249748          id_4065782                           0   ip1432527   \n",
       "31249749          id_4065782                           0  ip17559741   \n",
       "31249750          id_4065782                           0   ip8999284   \n",
       "31249751          id_4065782                           0   ip3122972   \n",
       "31249752          id_4065782                           0  ip14825503   \n",
       "31249759          id_3695115                           0   ip7109375   \n",
       "31249760          id_3695115                           0  ip12957418   \n",
       "31249761          id_3695115                           0  ip18868967   \n",
       "31249762          id_3695115                           0   ip3204072   \n",
       "31249763          id_3695115                           0  ip20219778   \n",
       "...                      ...                         ...         ...   \n",
       "34176583          id_4026043                           0  ip14597282   \n",
       "34176584          id_4026043                           0   ip9144079   \n",
       "34176585          id_4026043                           0   ip8681419   \n",
       "34176588          id_2798332                           0  ip18110211   \n",
       "34176589          id_2798332                           0  ip12874390   \n",
       "34176590          id_2798332                           0   ip1303019   \n",
       "34176591          id_2798332                           0   ip2003425   \n",
       "34176592          id_3817942                           0      ip4287   \n",
       "34176593          id_3817942                           0   ip5757250   \n",
       "34176594          id_3817942                           0  ip15547757   \n",
       "34176595          id_3817942                           0  ip19546106   \n",
       "34176596          id_3817942                           0  ip10357540   \n",
       "34176600          id_2530572                           0  ip19375340   \n",
       "34176601          id_2530572                           0  ip10596575   \n",
       "34176602          id_2530572                           0  ip15517787   \n",
       "34176603          id_2530572                           0   ip7082223   \n",
       "34176604          id_2530572                           0   ip6420435   \n",
       "34176605           id_478567                           0  ip15551109   \n",
       "34176606           id_528428                           0   ip9052523   \n",
       "34176607           id_528428                           0   ip8613213   \n",
       "34176608          id_1140893                           0  ip18895924   \n",
       "34176609          id_1140893                           0  ip18972712   \n",
       "34176610          id_1140893                           0   ip6951624   \n",
       "34176611          id_1140893                           0  ip16825846   \n",
       "34176612          id_2631917                           0  ip20907397   \n",
       "34176613          id_1230117                           0   ip6139496   \n",
       "34176614          id_1230117                           0  ip10509879   \n",
       "34176615          id_1230117                           0   ip4406665   \n",
       "34176616          id_1230117                           0   ip7963751   \n",
       "34176617          id_1230117                           0   ip6780385   \n",
       "\n",
       "          ip_freq_count  idxip_anonymous_c1  idxip_anonymous_c2  \\\n",
       "31249705             87                   0                  87   \n",
       "31249706             73                  73                   6   \n",
       "31249707            223                 223                 177   \n",
       "31249708              4                   0                   4   \n",
       "31249709              1                   1                   1   \n",
       "31249710              1                   0                   1   \n",
       "31249711              1                   1                   1   \n",
       "31249712              2                   2                   2   \n",
       "31249713              6                   0                   6   \n",
       "31249714              1                   1                   1   \n",
       "31249720             50                  50                  50   \n",
       "31249721             12                   0                  12   \n",
       "31249722              5                   0                   5   \n",
       "31249723             16                   0                  16   \n",
       "31249724              1                   0                   1   \n",
       "31249735            130                   0                 130   \n",
       "31249736             70                  70                   0   \n",
       "31249737              9                   9                   9   \n",
       "31249738             41                   0                  41   \n",
       "31249739            113                 113                 113   \n",
       "31249748              2                   0                   2   \n",
       "31249749              2                   0                   2   \n",
       "31249750              3                   3                   3   \n",
       "31249751              3                   0                   3   \n",
       "31249752              3                   0                   3   \n",
       "31249759              5                   5                   0   \n",
       "31249760              5                   5                   5   \n",
       "31249761            104                   0                  64   \n",
       "31249762             12                   0                   0   \n",
       "31249763             44                  24                  20   \n",
       "...                 ...                 ...                 ...   \n",
       "34176583              4                   0                   4   \n",
       "34176584              4                   0                   4   \n",
       "34176585              1                   0                   0   \n",
       "34176588              5                   0                   0   \n",
       "34176589             42                   0                   0   \n",
       "34176590              1                   0                   1   \n",
       "34176591             20                  20                   0   \n",
       "34176592              2                   2                   2   \n",
       "34176593             13                   0                  10   \n",
       "34176594              1                   0                   0   \n",
       "34176595             47                  47                  47   \n",
       "34176596              5                   0                   5   \n",
       "34176600              8                   6                   8   \n",
       "34176601              2                   0                   0   \n",
       "34176602              6                   2                   2   \n",
       "34176603             10                   0                  10   \n",
       "34176604              4                   0                   4   \n",
       "34176605              1                   0                   1   \n",
       "34176606              2                   0                   0   \n",
       "34176607              2                   2                   0   \n",
       "34176608             29                   0                   0   \n",
       "34176609            542                   0                   0   \n",
       "34176610             34                  34                  34   \n",
       "34176611            152                   0                  41   \n",
       "34176612             11                   0                  11   \n",
       "34176613              5                   0                   5   \n",
       "34176614              2                   0                   0   \n",
       "34176615             13                   0                   4   \n",
       "34176616             17                  15                   3   \n",
       "34176617              6                   6                   6   \n",
       "\n",
       "          idxip_anonymous_c3  idxip_anonymous_c4  idxip_anonymous_c5  \n",
       "31249705                   1                   0                   1  \n",
       "31249706                   2                   3                   1  \n",
       "31249707                   1                   1                   1  \n",
       "31249708                   1                   0                   1  \n",
       "31249709                   1                   1                   1  \n",
       "31249710                   1                   0                   1  \n",
       "31249711                   1                   1                   1  \n",
       "31249712                   2                   2                   2  \n",
       "31249713                   1                   0                   1  \n",
       "31249714                   1                   1                   1  \n",
       "31249720                   1                   1                   1  \n",
       "31249721                   1                   0                   1  \n",
       "31249722                   1                   0                   1  \n",
       "31249723                   1                   0                   1  \n",
       "31249724                   1                   0                   1  \n",
       "31249735                   1                   0                   1  \n",
       "31249736                   1                   1                   0  \n",
       "31249737                   1                   1                   1  \n",
       "31249738                   1                   0                   1  \n",
       "31249739                   1                   1                   1  \n",
       "31249748                   1                   0                   1  \n",
       "31249749                   1                   0                   1  \n",
       "31249750                   1                   1                   1  \n",
       "31249751                   2                   0                   2  \n",
       "31249752                   1                   0                   1  \n",
       "31249759                   1                   1                   0  \n",
       "31249760                   1                   1                   1  \n",
       "31249761                   4                   0                   1  \n",
       "31249762                   1                   1                   0  \n",
       "31249763                   2                   1                   1  \n",
       "...                      ...                 ...                 ...  \n",
       "34176583                   1                   0                   1  \n",
       "34176584                   1                   1                   1  \n",
       "34176585                   1                   0                   0  \n",
       "34176588                   2                   0                   0  \n",
       "34176589                   1                   0                   0  \n",
       "34176590                   2                   0                   1  \n",
       "34176591                   1                   1                   0  \n",
       "34176592                   1                   1                   1  \n",
       "34176593                   2                   0                   2  \n",
       "34176594                   1                   0                   0  \n",
       "34176595                   1                   1                   1  \n",
       "34176596                   2                   1                   1  \n",
       "34176600                   2                   1                   2  \n",
       "34176601                   1                   0                   0  \n",
       "34176602                   4                   1                   1  \n",
       "34176603                   1                   0                   1  \n",
       "34176604                   3                   0                   2  \n",
       "34176605                   1                   0                   1  \n",
       "34176606                   1                   0                   0  \n",
       "34176607                   1                   1                   0  \n",
       "34176608                   1                   0                   0  \n",
       "34176609                   2                   0                   0  \n",
       "34176610                   1                   1                   1  \n",
       "34176611                   5                   0                   5  \n",
       "34176612                   1                   0                   1  \n",
       "34176613                   1                   0                   1  \n",
       "34176614                   1                   0                   0  \n",
       "34176615                   1                   0                   1  \n",
       "34176616                   5                   2                   1  \n",
       "34176617                   2                   2                   2  \n",
       "\n",
       "[842550 rows x 9 columns]"
      ]
     },
     "execution_count": 156,
     "metadata": {},
     "output_type": "execute_result"
    }
   ],
   "source": [
    "ip_by_device_df.head()"
   ]
  },
  {
   "cell_type": "markdown",
   "metadata": {},
   "source": [
    "#Info About Each IP address\n",
    "11M rows"
   ]
  },
  {
   "cell_type": "code",
   "execution_count": 22,
   "metadata": {
    "collapsed": false
   },
   "outputs": [
    {
     "data": {
      "text/html": [
       "<div>\n",
       "<table border=\"1\" class=\"dataframe\">\n",
       "  <thead>\n",
       "    <tr style=\"text-align: right;\">\n",
       "      <th></th>\n",
       "      <th>ip_address</th>\n",
       "      <th>is_cellular_ip</th>\n",
       "      <th>ip_total_freq</th>\n",
       "      <th>ip_anonymous_c0</th>\n",
       "      <th>ip_anonymous_c1</th>\n",
       "      <th>ip_anonymous_c2</th>\n",
       "    </tr>\n",
       "  </thead>\n",
       "  <tbody>\n",
       "    <tr>\n",
       "      <th>0</th>\n",
       "      <td>ip8352948</td>\n",
       "      <td>0</td>\n",
       "      <td>400000</td>\n",
       "      <td>52</td>\n",
       "      <td>5500</td>\n",
       "      <td>27</td>\n",
       "    </tr>\n",
       "    <tr>\n",
       "      <th>1</th>\n",
       "      <td>ip4596125</td>\n",
       "      <td>0</td>\n",
       "      <td>802</td>\n",
       "      <td>31</td>\n",
       "      <td>19</td>\n",
       "      <td>10</td>\n",
       "    </tr>\n",
       "    <tr>\n",
       "      <th>2</th>\n",
       "      <td>ip19351956</td>\n",
       "      <td>0</td>\n",
       "      <td>400000</td>\n",
       "      <td>52</td>\n",
       "      <td>3726</td>\n",
       "      <td>155</td>\n",
       "    </tr>\n",
       "    <tr>\n",
       "      <th>3</th>\n",
       "      <td>ip17464771</td>\n",
       "      <td>0</td>\n",
       "      <td>6577</td>\n",
       "      <td>47</td>\n",
       "      <td>20</td>\n",
       "      <td>17</td>\n",
       "    </tr>\n",
       "    <tr>\n",
       "      <th>4</th>\n",
       "      <td>ip14710657</td>\n",
       "      <td>0</td>\n",
       "      <td>5714</td>\n",
       "      <td>52</td>\n",
       "      <td>41</td>\n",
       "      <td>17</td>\n",
       "    </tr>\n",
       "  </tbody>\n",
       "</table>\n",
       "</div>"
      ],
      "text/plain": [
       "   ip_address  is_cellular_ip  ip_total_freq  ip_anonymous_c0  \\\n",
       "0   ip8352948               0         400000               52   \n",
       "1   ip4596125               0            802               31   \n",
       "2  ip19351956               0         400000               52   \n",
       "3  ip17464771               0           6577               47   \n",
       "4  ip14710657               0           5714               52   \n",
       "\n",
       "   ip_anonymous_c1  ip_anonymous_c2  \n",
       "0             5500               27  \n",
       "1               19               10  \n",
       "2             3726              155  \n",
       "3               20               17  \n",
       "4               41               17  "
      ]
     },
     "execution_count": 22,
     "metadata": {},
     "output_type": "execute_result"
    }
   ],
   "source": [
    "ipagg_all_df.head()"
   ]
  },
  {
   "cell_type": "code",
   "execution_count": 33,
   "metadata": {
    "collapsed": false
   },
   "outputs": [
    {
     "data": {
      "text/plain": [
       "(11037814, 6)"
      ]
     },
     "execution_count": 33,
     "metadata": {},
     "output_type": "execute_result"
    }
   ],
   "source": [
    "ipagg_all_df.shape"
   ]
  },
  {
   "cell_type": "markdown",
   "metadata": {},
   "source": [
    "#Device/Cookie visits to Web Properties\n",
    "Including metric on days visited.  \n",
    "119M rows !!!"
   ]
  },
  {
   "cell_type": "code",
   "execution_count": 27,
   "metadata": {
    "collapsed": false
   },
   "outputs": [
    {
     "data": {
      "text/html": [
       "<div>\n",
       "<table border=\"1\" class=\"dataframe\">\n",
       "  <thead>\n",
       "    <tr style=\"text-align: right;\">\n",
       "      <th></th>\n",
       "      <th>device_or_cookie_id</th>\n",
       "      <th>device_or_cookie_indicator</th>\n",
       "      <th>property_id</th>\n",
       "      <th>unique_days_seeing_property_on_device_or_cookie_id</th>\n",
       "    </tr>\n",
       "  </thead>\n",
       "  <tbody>\n",
       "    <tr>\n",
       "      <th>0</th>\n",
       "      <td>id_558314</td>\n",
       "      <td>1</td>\n",
       "      <td>property_66021</td>\n",
       "      <td>7</td>\n",
       "    </tr>\n",
       "    <tr>\n",
       "      <th>1</th>\n",
       "      <td>id_558314</td>\n",
       "      <td>1</td>\n",
       "      <td>property_24444</td>\n",
       "      <td>1</td>\n",
       "    </tr>\n",
       "    <tr>\n",
       "      <th>2</th>\n",
       "      <td>id_558314</td>\n",
       "      <td>1</td>\n",
       "      <td>property_285395</td>\n",
       "      <td>6</td>\n",
       "    </tr>\n",
       "    <tr>\n",
       "      <th>3</th>\n",
       "      <td>id_558314</td>\n",
       "      <td>1</td>\n",
       "      <td>property_267459</td>\n",
       "      <td>1</td>\n",
       "    </tr>\n",
       "    <tr>\n",
       "      <th>4</th>\n",
       "      <td>id_558314</td>\n",
       "      <td>1</td>\n",
       "      <td>property_197052</td>\n",
       "      <td>14</td>\n",
       "    </tr>\n",
       "  </tbody>\n",
       "</table>\n",
       "</div>"
      ],
      "text/plain": [
       "  device_or_cookie_id  device_or_cookie_indicator      property_id  \\\n",
       "0           id_558314                           1   property_66021   \n",
       "1           id_558314                           1   property_24444   \n",
       "2           id_558314                           1  property_285395   \n",
       "3           id_558314                           1  property_267459   \n",
       "4           id_558314                           1  property_197052   \n",
       "\n",
       "   unique_days_seeing_property_on_device_or_cookie_id  \n",
       "0                                                  7   \n",
       "1                                                  1   \n",
       "2                                                  6   \n",
       "3                                                  1   \n",
       "4                                                 14   "
      ]
     },
     "execution_count": 27,
     "metadata": {},
     "output_type": "execute_result"
    }
   ],
   "source": [
    "id_all_property_df.head()"
   ]
  },
  {
   "cell_type": "code",
   "execution_count": 34,
   "metadata": {
    "collapsed": false
   },
   "outputs": [
    {
     "data": {
      "text/plain": [
       "(119484365, 4)"
      ]
     },
     "execution_count": 34,
     "metadata": {},
     "output_type": "execute_result"
    }
   ],
   "source": [
    "id_all_property_df.shape"
   ]
  },
  {
   "cell_type": "markdown",
   "metadata": {},
   "source": [
    "#Web properties described by category\n",
    "1.9M rows"
   ]
  },
  {
   "cell_type": "code",
   "execution_count": 23,
   "metadata": {
    "collapsed": false
   },
   "outputs": [
    {
     "data": {
      "text/html": [
       "<div>\n",
       "<table border=\"1\" class=\"dataframe\">\n",
       "  <thead>\n",
       "    <tr style=\"text-align: right;\">\n",
       "      <th></th>\n",
       "      <th>property_id</th>\n",
       "      <th>category_id</th>\n",
       "    </tr>\n",
       "  </thead>\n",
       "  <tbody>\n",
       "    <tr>\n",
       "      <th>0</th>\n",
       "      <td>property_40678</td>\n",
       "      <td>category_82</td>\n",
       "    </tr>\n",
       "    <tr>\n",
       "      <th>1</th>\n",
       "      <td>property_40678</td>\n",
       "      <td>category_210</td>\n",
       "    </tr>\n",
       "    <tr>\n",
       "      <th>2</th>\n",
       "      <td>property_40678</td>\n",
       "      <td>category_331</td>\n",
       "    </tr>\n",
       "    <tr>\n",
       "      <th>3</th>\n",
       "      <td>property_40678</td>\n",
       "      <td>category_279</td>\n",
       "    </tr>\n",
       "    <tr>\n",
       "      <th>4</th>\n",
       "      <td>property_40678</td>\n",
       "      <td>category_164</td>\n",
       "    </tr>\n",
       "  </tbody>\n",
       "</table>\n",
       "</div>"
      ],
      "text/plain": [
       "      property_id   category_id\n",
       "0  property_40678   category_82\n",
       "1  property_40678  category_210\n",
       "2  property_40678  category_331\n",
       "3  property_40678  category_279\n",
       "4  property_40678  category_164"
      ]
     },
     "execution_count": 23,
     "metadata": {},
     "output_type": "execute_result"
    }
   ],
   "source": [
    "property_category_df.head()"
   ]
  },
  {
   "cell_type": "code",
   "execution_count": 35,
   "metadata": {
    "collapsed": false
   },
   "outputs": [
    {
     "data": {
      "text/plain": [
       "(1910952, 2)"
      ]
     },
     "execution_count": 35,
     "metadata": {},
     "output_type": "execute_result"
    }
   ],
   "source": [
    "property_category_df.shape"
   ]
  },
  {
   "cell_type": "code",
   "execution_count": null,
   "metadata": {
    "collapsed": true
   },
   "outputs": [],
   "source": []
  }
 ],
 "metadata": {
  "kernelspec": {
   "display_name": "Python 3",
   "language": "python",
   "name": "python3"
  },
  "language_info": {
   "codemirror_mode": {
    "name": "ipython",
    "version": 3
   },
   "file_extension": ".py",
   "mimetype": "text/x-python",
   "name": "python",
   "nbconvert_exporter": "python",
   "pygments_lexer": "ipython3",
   "version": "3.4.3"
  }
 },
 "nbformat": 4,
 "nbformat_minor": 0
}
